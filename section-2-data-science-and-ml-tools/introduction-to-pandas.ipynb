{
  "cells": [
    {
      "cell_type": "markdown",
      "metadata": {
        "id": "EnhEnPNKKwLy"
      },
      "source": [
        "<a target=\"_blank\" href=\"https://colab.research.google.com/github/mrdbourke/zero-to-mastery-ml/blob/master/section-2-data-science-and-ml-tools/introduction-to-pandas.ipynb\">\n",
        "  <img src=\"https://colab.research.google.com/assets/colab-badge.svg\" alt=\"Open In Colab\"/>\n",
        "</a>\n",
        "\n",
        "[View source code](https://github.com/mrdbourke/zero-to-mastery-ml/blob/master/section-2-data-science-and-ml-tools/introduction-to-pandas.ipynb) | [Read notebook in online book format](https://dev.mrdbourke.com/zero-to-mastery-ml/introduction-to-pandas/)\n",
        "\n",
        "# A Quick Introduction to Data Analysis and Manipulation with Python and pandas"
      ]
    },
    {
      "cell_type": "code",
      "execution_count": 38,
      "metadata": {
        "id": "mOhGtWq4KwMK",
        "outputId": "83104364-e734-41b1-8ebe-034464a09fe6",
        "colab": {
          "base_uri": "https://localhost:8080/"
        }
      },
      "outputs": [
        {
          "output_type": "stream",
          "name": "stdout",
          "text": [
            "Last updated: 2024-12-02 16:19:20.979369\n"
          ]
        }
      ],
      "source": [
        "import datetime\n",
        "print(f\"Last updated: {datetime.datetime.now()}\")"
      ]
    },
    {
      "cell_type": "markdown",
      "metadata": {
        "id": "BjYYW-70KwMM"
      },
      "source": [
        "## What is pandas?\n",
        "\n",
        "If you're getting into machine learning and data science and you're using Python, you're going to use pandas.\n",
        "\n",
        "[pandas](https://pandas.pydata.org/) is an open source library which helps you analyse and manipulate data.\n",
        "\n",
        "<img src=\"https://github.com/mrdbourke/zero-to-mastery-ml/blob/master/images/pandas-6-step-ml-framework-tools-highlight.png?raw=1\" alt=\"a 6 step machine learning framework along will tools you can use for each step\" width=\"700\"/>"
      ]
    },
    {
      "cell_type": "markdown",
      "metadata": {
        "id": "ChPQ-HhpKwMO"
      },
      "source": [
        "## Why pandas?\n",
        "\n",
        "pandas provides a simple to use but very capable set of functions you can use to on your data.\n",
        "\n",
        "It's integrated with many other data science and machine learning tools which use Python so having an understanding of it will be helpful throughout your journey.\n",
        "\n",
        "One of the main use cases you'll come across is using pandas to transform your data in a way which makes it usable with machine learning algorithms."
      ]
    },
    {
      "cell_type": "markdown",
      "metadata": {
        "id": "vEVYfvJ8KwMP"
      },
      "source": [
        "## What does this notebook cover?\n",
        "\n",
        "Because the pandas library is vast, there's often many ways to do the same thing. This notebook covers some of the most fundamental functions of the library, which are more than enough to get started."
      ]
    },
    {
      "cell_type": "markdown",
      "metadata": {
        "id": "Rji0FWLFKwMQ"
      },
      "source": [
        "## Where can I get help?\n",
        "\n",
        "If you get stuck or think of something you'd like to do which this notebook doesn't cover, don't fear!\n",
        "\n",
        "The recommended steps you take are:\n",
        "1. **Try it** - Since pandas is very friendly, your first step should be to use what you know and try figure out the answer to your own question (getting it wrong is part of the process). If in doubt, run your code.\n",
        "2. **Search for it** - If trying it on your own doesn't work, since someone else has probably tried to do something similar, try searching for your problem in the following places (either via a search engine or direct):\n",
        "    * [pandas documentation](https://pandas.pydata.org/pandas-docs/stable/) - the best place for learning pandas, this resource covers all of the pandas functionality.\n",
        "    * [Stack Overflow](https://stackoverflow.com/) - this is the developers Q&A hub, it's full of questions and answers of different problems across a wide range of software development topics and chances are, there's one related to your problem.\n",
        "    * [ChatGPT](https://chat.openai.com/) - ChatGPT is very good at explaining code, however, it can make mistakes. Best to verify the code it writes first before using it. Try asking \"Can you explain the following code for me? {your code here}\" and then continue with follow up questions from there.\n",
        "    \n",
        "An example of searching for a pandas function might be:\n",
        "\n",
        "> \"how to fill all the missing values of two columns using pandas\"\n",
        "\n",
        "Searching this on Google leads to this post on Stack Overflow: https://stackoverflow.com/questions/36556256/how-do-i-fill-na-values-in-multiple-columns-in-pandas\n",
        "\n",
        "The next steps here are to read through the post and see if it relates to your problem. If it does, great, take the code/information you need and **rewrite it** to suit your own problem.\n",
        "\n",
        "3. **Ask for help** - If you've been through the above 2 steps and you're still stuck, you might want to ask your question on Stack Overflow. Remember to be specific as possible and provide details on what you've tried.\n",
        "\n",
        "Remember, you don't have to learn all of these functions off by heart to begin with.\n",
        "\n",
        "What's most important is remembering to continually ask yourself, \"what am I trying to do with the data?\".\n",
        "\n",
        "Start by answering that question and then practicing finding the code which does it.\n",
        "\n",
        "Let's get started."
      ]
    },
    {
      "cell_type": "markdown",
      "metadata": {
        "id": "60V1ImUxKwMU"
      },
      "source": [
        "## 0. Importing pandas\n",
        "\n",
        "To get started using pandas, the first step is to import it.\n",
        "\n",
        "The most common way (and method you should use) is to import pandas as the abbreviation `pd` (e.g. `pandas` -> `pd`).\n",
        "\n",
        "If you see the letters `pd` used anywhere in machine learning or data science, it's probably referring to the pandas library."
      ]
    },
    {
      "cell_type": "code",
      "execution_count": 39,
      "metadata": {
        "id": "qS1JPl-qKwMV",
        "outputId": "ada3ef1b-656a-4680-d717-f7836ebd5c3f",
        "colab": {
          "base_uri": "https://localhost:8080/"
        }
      },
      "outputs": [
        {
          "output_type": "stream",
          "name": "stdout",
          "text": [
            "pandas version: 2.2.2\n"
          ]
        }
      ],
      "source": [
        "import pandas as pd\n",
        "\n",
        "# Print the version\n",
        "print(f\"pandas version: {pd.__version__}\")"
      ]
    },
    {
      "cell_type": "markdown",
      "metadata": {
        "id": "nuCw0Hb6KwMX"
      },
      "source": [
        "## 1. Datatypes\n",
        "\n",
        "pandas has two main datatypes, `Series` and `DataFrame`.\n",
        "* [`pandas.Series`](https://pandas.pydata.org/docs/reference/api/pandas.Series.html) - a 1-dimensional column of data.\n",
        "* [`pandas.DataFrame`](https://pandas.pydata.org/docs/reference/api/pandas.DataFrame.html) (most common) - a 2-dimesional table of data with rows and columns.\n",
        "\n",
        "You can create a `Series` using `pd.Series()` and passing it a Python list."
      ]
    },
    {
      "cell_type": "code",
      "execution_count": 40,
      "metadata": {
        "id": "Rajr6Eg4KwMY",
        "outputId": "3168c0e5-d077-49a7-d9b9-c9e2c7ecad53",
        "colab": {
          "base_uri": "https://localhost:8080/",
          "height": 178
        }
      },
      "outputs": [
        {
          "output_type": "execute_result",
          "data": {
            "text/plain": [
              "0       BMW\n",
              "1    Toyota\n",
              "2     Honda\n",
              "dtype: object"
            ],
            "text/html": [
              "<div>\n",
              "<style scoped>\n",
              "    .dataframe tbody tr th:only-of-type {\n",
              "        vertical-align: middle;\n",
              "    }\n",
              "\n",
              "    .dataframe tbody tr th {\n",
              "        vertical-align: top;\n",
              "    }\n",
              "\n",
              "    .dataframe thead th {\n",
              "        text-align: right;\n",
              "    }\n",
              "</style>\n",
              "<table border=\"1\" class=\"dataframe\">\n",
              "  <thead>\n",
              "    <tr style=\"text-align: right;\">\n",
              "      <th></th>\n",
              "      <th>0</th>\n",
              "    </tr>\n",
              "  </thead>\n",
              "  <tbody>\n",
              "    <tr>\n",
              "      <th>0</th>\n",
              "      <td>BMW</td>\n",
              "    </tr>\n",
              "    <tr>\n",
              "      <th>1</th>\n",
              "      <td>Toyota</td>\n",
              "    </tr>\n",
              "    <tr>\n",
              "      <th>2</th>\n",
              "      <td>Honda</td>\n",
              "    </tr>\n",
              "  </tbody>\n",
              "</table>\n",
              "</div><br><label><b>dtype:</b> object</label>"
            ]
          },
          "metadata": {},
          "execution_count": 40
        }
      ],
      "source": [
        "# Creating a series of car types\n",
        "cars = pd.Series([\"BMW\", \"Toyota\", \"Honda\"])\n",
        "cars"
      ]
    },
    {
      "cell_type": "code",
      "execution_count": 41,
      "metadata": {
        "id": "hkUwu9e3KwMd",
        "outputId": "88e91a54-bdf3-4138-ec5f-b9f2a8c253a7",
        "colab": {
          "base_uri": "https://localhost:8080/",
          "height": 178
        }
      },
      "outputs": [
        {
          "output_type": "execute_result",
          "data": {
            "text/plain": [
              "0     Blue\n",
              "1      Red\n",
              "2    White\n",
              "dtype: object"
            ],
            "text/html": [
              "<div>\n",
              "<style scoped>\n",
              "    .dataframe tbody tr th:only-of-type {\n",
              "        vertical-align: middle;\n",
              "    }\n",
              "\n",
              "    .dataframe tbody tr th {\n",
              "        vertical-align: top;\n",
              "    }\n",
              "\n",
              "    .dataframe thead th {\n",
              "        text-align: right;\n",
              "    }\n",
              "</style>\n",
              "<table border=\"1\" class=\"dataframe\">\n",
              "  <thead>\n",
              "    <tr style=\"text-align: right;\">\n",
              "      <th></th>\n",
              "      <th>0</th>\n",
              "    </tr>\n",
              "  </thead>\n",
              "  <tbody>\n",
              "    <tr>\n",
              "      <th>0</th>\n",
              "      <td>Blue</td>\n",
              "    </tr>\n",
              "    <tr>\n",
              "      <th>1</th>\n",
              "      <td>Red</td>\n",
              "    </tr>\n",
              "    <tr>\n",
              "      <th>2</th>\n",
              "      <td>White</td>\n",
              "    </tr>\n",
              "  </tbody>\n",
              "</table>\n",
              "</div><br><label><b>dtype:</b> object</label>"
            ]
          },
          "metadata": {},
          "execution_count": 41
        }
      ],
      "source": [
        "# Creating a series of colours\n",
        "colours = pd.Series([\"Blue\", \"Red\", \"White\"])\n",
        "colours"
      ]
    },
    {
      "cell_type": "markdown",
      "metadata": {
        "id": "SQ3DYN8UKwMe"
      },
      "source": [
        "You can create a `DataFrame` by using `pd.DataFrame()` and passing it a Python dictionary.\n",
        "\n",
        "Let's use our two `Series` as the values."
      ]
    },
    {
      "cell_type": "code",
      "execution_count": 42,
      "metadata": {
        "id": "0xzx9No7KwMf",
        "outputId": "d11b0fcd-13f1-47b1-89f0-de60939cde55",
        "colab": {
          "base_uri": "https://localhost:8080/",
          "height": 143
        }
      },
      "outputs": [
        {
          "output_type": "execute_result",
          "data": {
            "text/plain": [
              "  Car type Colour\n",
              "0      BMW   Blue\n",
              "1   Toyota    Red\n",
              "2    Honda  White"
            ],
            "text/html": [
              "\n",
              "  <div id=\"df-2dba5a9e-46c0-4d26-8d96-079b504ce650\" class=\"colab-df-container\">\n",
              "    <div>\n",
              "<style scoped>\n",
              "    .dataframe tbody tr th:only-of-type {\n",
              "        vertical-align: middle;\n",
              "    }\n",
              "\n",
              "    .dataframe tbody tr th {\n",
              "        vertical-align: top;\n",
              "    }\n",
              "\n",
              "    .dataframe thead th {\n",
              "        text-align: right;\n",
              "    }\n",
              "</style>\n",
              "<table border=\"1\" class=\"dataframe\">\n",
              "  <thead>\n",
              "    <tr style=\"text-align: right;\">\n",
              "      <th></th>\n",
              "      <th>Car type</th>\n",
              "      <th>Colour</th>\n",
              "    </tr>\n",
              "  </thead>\n",
              "  <tbody>\n",
              "    <tr>\n",
              "      <th>0</th>\n",
              "      <td>BMW</td>\n",
              "      <td>Blue</td>\n",
              "    </tr>\n",
              "    <tr>\n",
              "      <th>1</th>\n",
              "      <td>Toyota</td>\n",
              "      <td>Red</td>\n",
              "    </tr>\n",
              "    <tr>\n",
              "      <th>2</th>\n",
              "      <td>Honda</td>\n",
              "      <td>White</td>\n",
              "    </tr>\n",
              "  </tbody>\n",
              "</table>\n",
              "</div>\n",
              "    <div class=\"colab-df-buttons\">\n",
              "\n",
              "  <div class=\"colab-df-container\">\n",
              "    <button class=\"colab-df-convert\" onclick=\"convertToInteractive('df-2dba5a9e-46c0-4d26-8d96-079b504ce650')\"\n",
              "            title=\"Convert this dataframe to an interactive table.\"\n",
              "            style=\"display:none;\">\n",
              "\n",
              "  <svg xmlns=\"http://www.w3.org/2000/svg\" height=\"24px\" viewBox=\"0 -960 960 960\">\n",
              "    <path d=\"M120-120v-720h720v720H120Zm60-500h600v-160H180v160Zm220 220h160v-160H400v160Zm0 220h160v-160H400v160ZM180-400h160v-160H180v160Zm440 0h160v-160H620v160ZM180-180h160v-160H180v160Zm440 0h160v-160H620v160Z\"/>\n",
              "  </svg>\n",
              "    </button>\n",
              "\n",
              "  <style>\n",
              "    .colab-df-container {\n",
              "      display:flex;\n",
              "      gap: 12px;\n",
              "    }\n",
              "\n",
              "    .colab-df-convert {\n",
              "      background-color: #E8F0FE;\n",
              "      border: none;\n",
              "      border-radius: 50%;\n",
              "      cursor: pointer;\n",
              "      display: none;\n",
              "      fill: #1967D2;\n",
              "      height: 32px;\n",
              "      padding: 0 0 0 0;\n",
              "      width: 32px;\n",
              "    }\n",
              "\n",
              "    .colab-df-convert:hover {\n",
              "      background-color: #E2EBFA;\n",
              "      box-shadow: 0px 1px 2px rgba(60, 64, 67, 0.3), 0px 1px 3px 1px rgba(60, 64, 67, 0.15);\n",
              "      fill: #174EA6;\n",
              "    }\n",
              "\n",
              "    .colab-df-buttons div {\n",
              "      margin-bottom: 4px;\n",
              "    }\n",
              "\n",
              "    [theme=dark] .colab-df-convert {\n",
              "      background-color: #3B4455;\n",
              "      fill: #D2E3FC;\n",
              "    }\n",
              "\n",
              "    [theme=dark] .colab-df-convert:hover {\n",
              "      background-color: #434B5C;\n",
              "      box-shadow: 0px 1px 3px 1px rgba(0, 0, 0, 0.15);\n",
              "      filter: drop-shadow(0px 1px 2px rgba(0, 0, 0, 0.3));\n",
              "      fill: #FFFFFF;\n",
              "    }\n",
              "  </style>\n",
              "\n",
              "    <script>\n",
              "      const buttonEl =\n",
              "        document.querySelector('#df-2dba5a9e-46c0-4d26-8d96-079b504ce650 button.colab-df-convert');\n",
              "      buttonEl.style.display =\n",
              "        google.colab.kernel.accessAllowed ? 'block' : 'none';\n",
              "\n",
              "      async function convertToInteractive(key) {\n",
              "        const element = document.querySelector('#df-2dba5a9e-46c0-4d26-8d96-079b504ce650');\n",
              "        const dataTable =\n",
              "          await google.colab.kernel.invokeFunction('convertToInteractive',\n",
              "                                                    [key], {});\n",
              "        if (!dataTable) return;\n",
              "\n",
              "        const docLinkHtml = 'Like what you see? Visit the ' +\n",
              "          '<a target=\"_blank\" href=https://colab.research.google.com/notebooks/data_table.ipynb>data table notebook</a>'\n",
              "          + ' to learn more about interactive tables.';\n",
              "        element.innerHTML = '';\n",
              "        dataTable['output_type'] = 'display_data';\n",
              "        await google.colab.output.renderOutput(dataTable, element);\n",
              "        const docLink = document.createElement('div');\n",
              "        docLink.innerHTML = docLinkHtml;\n",
              "        element.appendChild(docLink);\n",
              "      }\n",
              "    </script>\n",
              "  </div>\n",
              "\n",
              "\n",
              "<div id=\"df-89f30ab6-8032-405a-965c-530b07109e93\">\n",
              "  <button class=\"colab-df-quickchart\" onclick=\"quickchart('df-89f30ab6-8032-405a-965c-530b07109e93')\"\n",
              "            title=\"Suggest charts\"\n",
              "            style=\"display:none;\">\n",
              "\n",
              "<svg xmlns=\"http://www.w3.org/2000/svg\" height=\"24px\"viewBox=\"0 0 24 24\"\n",
              "     width=\"24px\">\n",
              "    <g>\n",
              "        <path d=\"M19 3H5c-1.1 0-2 .9-2 2v14c0 1.1.9 2 2 2h14c1.1 0 2-.9 2-2V5c0-1.1-.9-2-2-2zM9 17H7v-7h2v7zm4 0h-2V7h2v10zm4 0h-2v-4h2v4z\"/>\n",
              "    </g>\n",
              "</svg>\n",
              "  </button>\n",
              "\n",
              "<style>\n",
              "  .colab-df-quickchart {\n",
              "      --bg-color: #E8F0FE;\n",
              "      --fill-color: #1967D2;\n",
              "      --hover-bg-color: #E2EBFA;\n",
              "      --hover-fill-color: #174EA6;\n",
              "      --disabled-fill-color: #AAA;\n",
              "      --disabled-bg-color: #DDD;\n",
              "  }\n",
              "\n",
              "  [theme=dark] .colab-df-quickchart {\n",
              "      --bg-color: #3B4455;\n",
              "      --fill-color: #D2E3FC;\n",
              "      --hover-bg-color: #434B5C;\n",
              "      --hover-fill-color: #FFFFFF;\n",
              "      --disabled-bg-color: #3B4455;\n",
              "      --disabled-fill-color: #666;\n",
              "  }\n",
              "\n",
              "  .colab-df-quickchart {\n",
              "    background-color: var(--bg-color);\n",
              "    border: none;\n",
              "    border-radius: 50%;\n",
              "    cursor: pointer;\n",
              "    display: none;\n",
              "    fill: var(--fill-color);\n",
              "    height: 32px;\n",
              "    padding: 0;\n",
              "    width: 32px;\n",
              "  }\n",
              "\n",
              "  .colab-df-quickchart:hover {\n",
              "    background-color: var(--hover-bg-color);\n",
              "    box-shadow: 0 1px 2px rgba(60, 64, 67, 0.3), 0 1px 3px 1px rgba(60, 64, 67, 0.15);\n",
              "    fill: var(--button-hover-fill-color);\n",
              "  }\n",
              "\n",
              "  .colab-df-quickchart-complete:disabled,\n",
              "  .colab-df-quickchart-complete:disabled:hover {\n",
              "    background-color: var(--disabled-bg-color);\n",
              "    fill: var(--disabled-fill-color);\n",
              "    box-shadow: none;\n",
              "  }\n",
              "\n",
              "  .colab-df-spinner {\n",
              "    border: 2px solid var(--fill-color);\n",
              "    border-color: transparent;\n",
              "    border-bottom-color: var(--fill-color);\n",
              "    animation:\n",
              "      spin 1s steps(1) infinite;\n",
              "  }\n",
              "\n",
              "  @keyframes spin {\n",
              "    0% {\n",
              "      border-color: transparent;\n",
              "      border-bottom-color: var(--fill-color);\n",
              "      border-left-color: var(--fill-color);\n",
              "    }\n",
              "    20% {\n",
              "      border-color: transparent;\n",
              "      border-left-color: var(--fill-color);\n",
              "      border-top-color: var(--fill-color);\n",
              "    }\n",
              "    30% {\n",
              "      border-color: transparent;\n",
              "      border-left-color: var(--fill-color);\n",
              "      border-top-color: var(--fill-color);\n",
              "      border-right-color: var(--fill-color);\n",
              "    }\n",
              "    40% {\n",
              "      border-color: transparent;\n",
              "      border-right-color: var(--fill-color);\n",
              "      border-top-color: var(--fill-color);\n",
              "    }\n",
              "    60% {\n",
              "      border-color: transparent;\n",
              "      border-right-color: var(--fill-color);\n",
              "    }\n",
              "    80% {\n",
              "      border-color: transparent;\n",
              "      border-right-color: var(--fill-color);\n",
              "      border-bottom-color: var(--fill-color);\n",
              "    }\n",
              "    90% {\n",
              "      border-color: transparent;\n",
              "      border-bottom-color: var(--fill-color);\n",
              "    }\n",
              "  }\n",
              "</style>\n",
              "\n",
              "  <script>\n",
              "    async function quickchart(key) {\n",
              "      const quickchartButtonEl =\n",
              "        document.querySelector('#' + key + ' button');\n",
              "      quickchartButtonEl.disabled = true;  // To prevent multiple clicks.\n",
              "      quickchartButtonEl.classList.add('colab-df-spinner');\n",
              "      try {\n",
              "        const charts = await google.colab.kernel.invokeFunction(\n",
              "            'suggestCharts', [key], {});\n",
              "      } catch (error) {\n",
              "        console.error('Error during call to suggestCharts:', error);\n",
              "      }\n",
              "      quickchartButtonEl.classList.remove('colab-df-spinner');\n",
              "      quickchartButtonEl.classList.add('colab-df-quickchart-complete');\n",
              "    }\n",
              "    (() => {\n",
              "      let quickchartButtonEl =\n",
              "        document.querySelector('#df-89f30ab6-8032-405a-965c-530b07109e93 button');\n",
              "      quickchartButtonEl.style.display =\n",
              "        google.colab.kernel.accessAllowed ? 'block' : 'none';\n",
              "    })();\n",
              "  </script>\n",
              "</div>\n",
              "\n",
              "  <div id=\"id_d35ef928-d8f2-411b-a571-01eb9ce044d7\">\n",
              "    <style>\n",
              "      .colab-df-generate {\n",
              "        background-color: #E8F0FE;\n",
              "        border: none;\n",
              "        border-radius: 50%;\n",
              "        cursor: pointer;\n",
              "        display: none;\n",
              "        fill: #1967D2;\n",
              "        height: 32px;\n",
              "        padding: 0 0 0 0;\n",
              "        width: 32px;\n",
              "      }\n",
              "\n",
              "      .colab-df-generate:hover {\n",
              "        background-color: #E2EBFA;\n",
              "        box-shadow: 0px 1px 2px rgba(60, 64, 67, 0.3), 0px 1px 3px 1px rgba(60, 64, 67, 0.15);\n",
              "        fill: #174EA6;\n",
              "      }\n",
              "\n",
              "      [theme=dark] .colab-df-generate {\n",
              "        background-color: #3B4455;\n",
              "        fill: #D2E3FC;\n",
              "      }\n",
              "\n",
              "      [theme=dark] .colab-df-generate:hover {\n",
              "        background-color: #434B5C;\n",
              "        box-shadow: 0px 1px 3px 1px rgba(0, 0, 0, 0.15);\n",
              "        filter: drop-shadow(0px 1px 2px rgba(0, 0, 0, 0.3));\n",
              "        fill: #FFFFFF;\n",
              "      }\n",
              "    </style>\n",
              "    <button class=\"colab-df-generate\" onclick=\"generateWithVariable('car_data')\"\n",
              "            title=\"Generate code using this dataframe.\"\n",
              "            style=\"display:none;\">\n",
              "\n",
              "  <svg xmlns=\"http://www.w3.org/2000/svg\" height=\"24px\"viewBox=\"0 0 24 24\"\n",
              "       width=\"24px\">\n",
              "    <path d=\"M7,19H8.4L18.45,9,17,7.55,7,17.6ZM5,21V16.75L18.45,3.32a2,2,0,0,1,2.83,0l1.4,1.43a1.91,1.91,0,0,1,.58,1.4,1.91,1.91,0,0,1-.58,1.4L9.25,21ZM18.45,9,17,7.55Zm-12,3A5.31,5.31,0,0,0,4.9,8.1,5.31,5.31,0,0,0,1,6.5,5.31,5.31,0,0,0,4.9,4.9,5.31,5.31,0,0,0,6.5,1,5.31,5.31,0,0,0,8.1,4.9,5.31,5.31,0,0,0,12,6.5,5.46,5.46,0,0,0,6.5,12Z\"/>\n",
              "  </svg>\n",
              "    </button>\n",
              "    <script>\n",
              "      (() => {\n",
              "      const buttonEl =\n",
              "        document.querySelector('#id_d35ef928-d8f2-411b-a571-01eb9ce044d7 button.colab-df-generate');\n",
              "      buttonEl.style.display =\n",
              "        google.colab.kernel.accessAllowed ? 'block' : 'none';\n",
              "\n",
              "      buttonEl.onclick = () => {\n",
              "        google.colab.notebook.generateWithVariable('car_data');\n",
              "      }\n",
              "      })();\n",
              "    </script>\n",
              "  </div>\n",
              "\n",
              "    </div>\n",
              "  </div>\n"
            ],
            "application/vnd.google.colaboratory.intrinsic+json": {
              "type": "dataframe",
              "variable_name": "car_data",
              "summary": "{\n  \"name\": \"car_data\",\n  \"rows\": 3,\n  \"fields\": [\n    {\n      \"column\": \"Car type\",\n      \"properties\": {\n        \"dtype\": \"string\",\n        \"num_unique_values\": 3,\n        \"samples\": [\n          \"BMW\",\n          \"Toyota\",\n          \"Honda\"\n        ],\n        \"semantic_type\": \"\",\n        \"description\": \"\"\n      }\n    },\n    {\n      \"column\": \"Colour\",\n      \"properties\": {\n        \"dtype\": \"string\",\n        \"num_unique_values\": 3,\n        \"samples\": [\n          \"Blue\",\n          \"Red\",\n          \"White\"\n        ],\n        \"semantic_type\": \"\",\n        \"description\": \"\"\n      }\n    }\n  ]\n}"
            }
          },
          "metadata": {},
          "execution_count": 42
        }
      ],
      "source": [
        "# Creating a DataFrame of cars and colours\n",
        "car_data = pd.DataFrame({\"Car type\": cars,\n",
        "                         \"Colour\": colours})\n",
        "car_data"
      ]
    },
    {
      "cell_type": "markdown",
      "metadata": {
        "id": "1UaW8DWNKwMg"
      },
      "source": [
        "You can see the keys of the dictionary became the column headings (text in bold) and the values of the two `Series`'s became the values in the DataFrame.\n",
        "\n",
        "It's important to note, many different types of data could go into the DataFrame.\n",
        "\n",
        "Here we've used only text but you could use floats, integers, dates and more."
      ]
    },
    {
      "cell_type": "markdown",
      "metadata": {
        "id": "r7SStpH7KwMh"
      },
      "source": [
        "### Exercises\n",
        "\n",
        "1. Make a `Series` of different foods.\n",
        "2. Make a `Series` of different dollar values (these can be integers).\n",
        "3. Combine your `Series`'s of foods and dollar values into a `DataFrame`.\n",
        "\n",
        "Try it out for yourself first, then see how your code goes against the solution.\n",
        "\n",
        "**Note:** Make sure your two `Series` are the same size before combining them in a DataFrame."
      ]
    },
    {
      "cell_type": "code",
      "execution_count": 43,
      "metadata": {
        "id": "nxUHcph0KwMh"
      },
      "outputs": [],
      "source": [
        "# Your code here"
      ]
    },
    {
      "cell_type": "code",
      "execution_count": 44,
      "metadata": {
        "id": "EbnfVGiKKwMi",
        "outputId": "d4698141-e598-4c60-9690-7bd688cbb771",
        "colab": {
          "base_uri": "https://localhost:8080/",
          "height": 143
        }
      },
      "outputs": [
        {
          "output_type": "execute_result",
          "data": {
            "text/plain": [
              "           Foods  Price\n",
              "0  Almond butter      9\n",
              "1           Eggs      6\n",
              "2        Avocado      2"
            ],
            "text/html": [
              "\n",
              "  <div id=\"df-67a1034d-f253-495c-bca8-3ca98d74f4c7\" class=\"colab-df-container\">\n",
              "    <div>\n",
              "<style scoped>\n",
              "    .dataframe tbody tr th:only-of-type {\n",
              "        vertical-align: middle;\n",
              "    }\n",
              "\n",
              "    .dataframe tbody tr th {\n",
              "        vertical-align: top;\n",
              "    }\n",
              "\n",
              "    .dataframe thead th {\n",
              "        text-align: right;\n",
              "    }\n",
              "</style>\n",
              "<table border=\"1\" class=\"dataframe\">\n",
              "  <thead>\n",
              "    <tr style=\"text-align: right;\">\n",
              "      <th></th>\n",
              "      <th>Foods</th>\n",
              "      <th>Price</th>\n",
              "    </tr>\n",
              "  </thead>\n",
              "  <tbody>\n",
              "    <tr>\n",
              "      <th>0</th>\n",
              "      <td>Almond butter</td>\n",
              "      <td>9</td>\n",
              "    </tr>\n",
              "    <tr>\n",
              "      <th>1</th>\n",
              "      <td>Eggs</td>\n",
              "      <td>6</td>\n",
              "    </tr>\n",
              "    <tr>\n",
              "      <th>2</th>\n",
              "      <td>Avocado</td>\n",
              "      <td>2</td>\n",
              "    </tr>\n",
              "  </tbody>\n",
              "</table>\n",
              "</div>\n",
              "    <div class=\"colab-df-buttons\">\n",
              "\n",
              "  <div class=\"colab-df-container\">\n",
              "    <button class=\"colab-df-convert\" onclick=\"convertToInteractive('df-67a1034d-f253-495c-bca8-3ca98d74f4c7')\"\n",
              "            title=\"Convert this dataframe to an interactive table.\"\n",
              "            style=\"display:none;\">\n",
              "\n",
              "  <svg xmlns=\"http://www.w3.org/2000/svg\" height=\"24px\" viewBox=\"0 -960 960 960\">\n",
              "    <path d=\"M120-120v-720h720v720H120Zm60-500h600v-160H180v160Zm220 220h160v-160H400v160Zm0 220h160v-160H400v160ZM180-400h160v-160H180v160Zm440 0h160v-160H620v160ZM180-180h160v-160H180v160Zm440 0h160v-160H620v160Z\"/>\n",
              "  </svg>\n",
              "    </button>\n",
              "\n",
              "  <style>\n",
              "    .colab-df-container {\n",
              "      display:flex;\n",
              "      gap: 12px;\n",
              "    }\n",
              "\n",
              "    .colab-df-convert {\n",
              "      background-color: #E8F0FE;\n",
              "      border: none;\n",
              "      border-radius: 50%;\n",
              "      cursor: pointer;\n",
              "      display: none;\n",
              "      fill: #1967D2;\n",
              "      height: 32px;\n",
              "      padding: 0 0 0 0;\n",
              "      width: 32px;\n",
              "    }\n",
              "\n",
              "    .colab-df-convert:hover {\n",
              "      background-color: #E2EBFA;\n",
              "      box-shadow: 0px 1px 2px rgba(60, 64, 67, 0.3), 0px 1px 3px 1px rgba(60, 64, 67, 0.15);\n",
              "      fill: #174EA6;\n",
              "    }\n",
              "\n",
              "    .colab-df-buttons div {\n",
              "      margin-bottom: 4px;\n",
              "    }\n",
              "\n",
              "    [theme=dark] .colab-df-convert {\n",
              "      background-color: #3B4455;\n",
              "      fill: #D2E3FC;\n",
              "    }\n",
              "\n",
              "    [theme=dark] .colab-df-convert:hover {\n",
              "      background-color: #434B5C;\n",
              "      box-shadow: 0px 1px 3px 1px rgba(0, 0, 0, 0.15);\n",
              "      filter: drop-shadow(0px 1px 2px rgba(0, 0, 0, 0.3));\n",
              "      fill: #FFFFFF;\n",
              "    }\n",
              "  </style>\n",
              "\n",
              "    <script>\n",
              "      const buttonEl =\n",
              "        document.querySelector('#df-67a1034d-f253-495c-bca8-3ca98d74f4c7 button.colab-df-convert');\n",
              "      buttonEl.style.display =\n",
              "        google.colab.kernel.accessAllowed ? 'block' : 'none';\n",
              "\n",
              "      async function convertToInteractive(key) {\n",
              "        const element = document.querySelector('#df-67a1034d-f253-495c-bca8-3ca98d74f4c7');\n",
              "        const dataTable =\n",
              "          await google.colab.kernel.invokeFunction('convertToInteractive',\n",
              "                                                    [key], {});\n",
              "        if (!dataTable) return;\n",
              "\n",
              "        const docLinkHtml = 'Like what you see? Visit the ' +\n",
              "          '<a target=\"_blank\" href=https://colab.research.google.com/notebooks/data_table.ipynb>data table notebook</a>'\n",
              "          + ' to learn more about interactive tables.';\n",
              "        element.innerHTML = '';\n",
              "        dataTable['output_type'] = 'display_data';\n",
              "        await google.colab.output.renderOutput(dataTable, element);\n",
              "        const docLink = document.createElement('div');\n",
              "        docLink.innerHTML = docLinkHtml;\n",
              "        element.appendChild(docLink);\n",
              "      }\n",
              "    </script>\n",
              "  </div>\n",
              "\n",
              "\n",
              "<div id=\"df-943314b0-25f4-4540-93f8-1c0608a55450\">\n",
              "  <button class=\"colab-df-quickchart\" onclick=\"quickchart('df-943314b0-25f4-4540-93f8-1c0608a55450')\"\n",
              "            title=\"Suggest charts\"\n",
              "            style=\"display:none;\">\n",
              "\n",
              "<svg xmlns=\"http://www.w3.org/2000/svg\" height=\"24px\"viewBox=\"0 0 24 24\"\n",
              "     width=\"24px\">\n",
              "    <g>\n",
              "        <path d=\"M19 3H5c-1.1 0-2 .9-2 2v14c0 1.1.9 2 2 2h14c1.1 0 2-.9 2-2V5c0-1.1-.9-2-2-2zM9 17H7v-7h2v7zm4 0h-2V7h2v10zm4 0h-2v-4h2v4z\"/>\n",
              "    </g>\n",
              "</svg>\n",
              "  </button>\n",
              "\n",
              "<style>\n",
              "  .colab-df-quickchart {\n",
              "      --bg-color: #E8F0FE;\n",
              "      --fill-color: #1967D2;\n",
              "      --hover-bg-color: #E2EBFA;\n",
              "      --hover-fill-color: #174EA6;\n",
              "      --disabled-fill-color: #AAA;\n",
              "      --disabled-bg-color: #DDD;\n",
              "  }\n",
              "\n",
              "  [theme=dark] .colab-df-quickchart {\n",
              "      --bg-color: #3B4455;\n",
              "      --fill-color: #D2E3FC;\n",
              "      --hover-bg-color: #434B5C;\n",
              "      --hover-fill-color: #FFFFFF;\n",
              "      --disabled-bg-color: #3B4455;\n",
              "      --disabled-fill-color: #666;\n",
              "  }\n",
              "\n",
              "  .colab-df-quickchart {\n",
              "    background-color: var(--bg-color);\n",
              "    border: none;\n",
              "    border-radius: 50%;\n",
              "    cursor: pointer;\n",
              "    display: none;\n",
              "    fill: var(--fill-color);\n",
              "    height: 32px;\n",
              "    padding: 0;\n",
              "    width: 32px;\n",
              "  }\n",
              "\n",
              "  .colab-df-quickchart:hover {\n",
              "    background-color: var(--hover-bg-color);\n",
              "    box-shadow: 0 1px 2px rgba(60, 64, 67, 0.3), 0 1px 3px 1px rgba(60, 64, 67, 0.15);\n",
              "    fill: var(--button-hover-fill-color);\n",
              "  }\n",
              "\n",
              "  .colab-df-quickchart-complete:disabled,\n",
              "  .colab-df-quickchart-complete:disabled:hover {\n",
              "    background-color: var(--disabled-bg-color);\n",
              "    fill: var(--disabled-fill-color);\n",
              "    box-shadow: none;\n",
              "  }\n",
              "\n",
              "  .colab-df-spinner {\n",
              "    border: 2px solid var(--fill-color);\n",
              "    border-color: transparent;\n",
              "    border-bottom-color: var(--fill-color);\n",
              "    animation:\n",
              "      spin 1s steps(1) infinite;\n",
              "  }\n",
              "\n",
              "  @keyframes spin {\n",
              "    0% {\n",
              "      border-color: transparent;\n",
              "      border-bottom-color: var(--fill-color);\n",
              "      border-left-color: var(--fill-color);\n",
              "    }\n",
              "    20% {\n",
              "      border-color: transparent;\n",
              "      border-left-color: var(--fill-color);\n",
              "      border-top-color: var(--fill-color);\n",
              "    }\n",
              "    30% {\n",
              "      border-color: transparent;\n",
              "      border-left-color: var(--fill-color);\n",
              "      border-top-color: var(--fill-color);\n",
              "      border-right-color: var(--fill-color);\n",
              "    }\n",
              "    40% {\n",
              "      border-color: transparent;\n",
              "      border-right-color: var(--fill-color);\n",
              "      border-top-color: var(--fill-color);\n",
              "    }\n",
              "    60% {\n",
              "      border-color: transparent;\n",
              "      border-right-color: var(--fill-color);\n",
              "    }\n",
              "    80% {\n",
              "      border-color: transparent;\n",
              "      border-right-color: var(--fill-color);\n",
              "      border-bottom-color: var(--fill-color);\n",
              "    }\n",
              "    90% {\n",
              "      border-color: transparent;\n",
              "      border-bottom-color: var(--fill-color);\n",
              "    }\n",
              "  }\n",
              "</style>\n",
              "\n",
              "  <script>\n",
              "    async function quickchart(key) {\n",
              "      const quickchartButtonEl =\n",
              "        document.querySelector('#' + key + ' button');\n",
              "      quickchartButtonEl.disabled = true;  // To prevent multiple clicks.\n",
              "      quickchartButtonEl.classList.add('colab-df-spinner');\n",
              "      try {\n",
              "        const charts = await google.colab.kernel.invokeFunction(\n",
              "            'suggestCharts', [key], {});\n",
              "      } catch (error) {\n",
              "        console.error('Error during call to suggestCharts:', error);\n",
              "      }\n",
              "      quickchartButtonEl.classList.remove('colab-df-spinner');\n",
              "      quickchartButtonEl.classList.add('colab-df-quickchart-complete');\n",
              "    }\n",
              "    (() => {\n",
              "      let quickchartButtonEl =\n",
              "        document.querySelector('#df-943314b0-25f4-4540-93f8-1c0608a55450 button');\n",
              "      quickchartButtonEl.style.display =\n",
              "        google.colab.kernel.accessAllowed ? 'block' : 'none';\n",
              "    })();\n",
              "  </script>\n",
              "</div>\n",
              "\n",
              "  <div id=\"id_e2cbe289-5bd0-4a54-97b9-4d004f2e4b3c\">\n",
              "    <style>\n",
              "      .colab-df-generate {\n",
              "        background-color: #E8F0FE;\n",
              "        border: none;\n",
              "        border-radius: 50%;\n",
              "        cursor: pointer;\n",
              "        display: none;\n",
              "        fill: #1967D2;\n",
              "        height: 32px;\n",
              "        padding: 0 0 0 0;\n",
              "        width: 32px;\n",
              "      }\n",
              "\n",
              "      .colab-df-generate:hover {\n",
              "        background-color: #E2EBFA;\n",
              "        box-shadow: 0px 1px 2px rgba(60, 64, 67, 0.3), 0px 1px 3px 1px rgba(60, 64, 67, 0.15);\n",
              "        fill: #174EA6;\n",
              "      }\n",
              "\n",
              "      [theme=dark] .colab-df-generate {\n",
              "        background-color: #3B4455;\n",
              "        fill: #D2E3FC;\n",
              "      }\n",
              "\n",
              "      [theme=dark] .colab-df-generate:hover {\n",
              "        background-color: #434B5C;\n",
              "        box-shadow: 0px 1px 3px 1px rgba(0, 0, 0, 0.15);\n",
              "        filter: drop-shadow(0px 1px 2px rgba(0, 0, 0, 0.3));\n",
              "        fill: #FFFFFF;\n",
              "      }\n",
              "    </style>\n",
              "    <button class=\"colab-df-generate\" onclick=\"generateWithVariable('food_data')\"\n",
              "            title=\"Generate code using this dataframe.\"\n",
              "            style=\"display:none;\">\n",
              "\n",
              "  <svg xmlns=\"http://www.w3.org/2000/svg\" height=\"24px\"viewBox=\"0 0 24 24\"\n",
              "       width=\"24px\">\n",
              "    <path d=\"M7,19H8.4L18.45,9,17,7.55,7,17.6ZM5,21V16.75L18.45,3.32a2,2,0,0,1,2.83,0l1.4,1.43a1.91,1.91,0,0,1,.58,1.4,1.91,1.91,0,0,1-.58,1.4L9.25,21ZM18.45,9,17,7.55Zm-12,3A5.31,5.31,0,0,0,4.9,8.1,5.31,5.31,0,0,0,1,6.5,5.31,5.31,0,0,0,4.9,4.9,5.31,5.31,0,0,0,6.5,1,5.31,5.31,0,0,0,8.1,4.9,5.31,5.31,0,0,0,12,6.5,5.46,5.46,0,0,0,6.5,12Z\"/>\n",
              "  </svg>\n",
              "    </button>\n",
              "    <script>\n",
              "      (() => {\n",
              "      const buttonEl =\n",
              "        document.querySelector('#id_e2cbe289-5bd0-4a54-97b9-4d004f2e4b3c button.colab-df-generate');\n",
              "      buttonEl.style.display =\n",
              "        google.colab.kernel.accessAllowed ? 'block' : 'none';\n",
              "\n",
              "      buttonEl.onclick = () => {\n",
              "        google.colab.notebook.generateWithVariable('food_data');\n",
              "      }\n",
              "      })();\n",
              "    </script>\n",
              "  </div>\n",
              "\n",
              "    </div>\n",
              "  </div>\n"
            ],
            "application/vnd.google.colaboratory.intrinsic+json": {
              "type": "dataframe",
              "variable_name": "food_data",
              "summary": "{\n  \"name\": \"food_data\",\n  \"rows\": 3,\n  \"fields\": [\n    {\n      \"column\": \"Foods\",\n      \"properties\": {\n        \"dtype\": \"string\",\n        \"num_unique_values\": 3,\n        \"samples\": [\n          \"Almond butter\",\n          \"Eggs\",\n          \"Avocado\"\n        ],\n        \"semantic_type\": \"\",\n        \"description\": \"\"\n      }\n    },\n    {\n      \"column\": \"Price\",\n      \"properties\": {\n        \"dtype\": \"number\",\n        \"std\": 3,\n        \"min\": 2,\n        \"max\": 9,\n        \"num_unique_values\": 3,\n        \"samples\": [\n          9,\n          6,\n          2\n        ],\n        \"semantic_type\": \"\",\n        \"description\": \"\"\n      }\n    }\n  ]\n}"
            }
          },
          "metadata": {},
          "execution_count": 44
        }
      ],
      "source": [
        "# Example solution\n",
        "\n",
        "# Make a Series of different foods\n",
        "foods = pd.Series([\"Almond butter\", \"Eggs\", \"Avocado\"])\n",
        "\n",
        "# Make a Series of different dollar values\n",
        "prices = pd.Series([9, 6, 2])\n",
        "\n",
        "# Combine your Series of foods and dollar values into a DataFrame\n",
        "food_data = pd.DataFrame({\"Foods\": foods,\n",
        "                          \"Price\": prices})\n",
        "\n",
        "food_data"
      ]
    },
    {
      "cell_type": "markdown",
      "metadata": {
        "id": "_sFa-o1kKwMj"
      },
      "source": [
        "## 2. Importing data\n",
        "\n",
        "Creating `Series` and `DataFrame`'s from scratch is nice but what you'll usually be doing is importing your data in the form of a `.csv` (comma separated value), spreadsheet file or something similar such as an [SQL database](https://pandas.pydata.org/docs/reference/api/pandas.read_sql.html).\n",
        "\n",
        "pandas allows for easy importing of data like this through functions such as [`pd.read_csv()`](https://pandas.pydata.org/docs/reference/api/pandas.read_csv.html) and [`pd.read_excel()`](https://pandas.pydata.org/docs/reference/api/pandas.read_excel.html) (for Microsoft Excel files).\n",
        "\n",
        "Say you wanted to get this information from this Google Sheet document into a pandas `DataFrame`.\n",
        "\n",
        "<img src=\"https://github.com/mrdbourke/zero-to-mastery-ml/blob/master/images/pandas-car-sales-csv.png?raw=1\" alt=\"spreadsheet with car sales information\" width=\"600\">\n",
        "\n",
        "You could export it as a `.csv` file and then import it using `pd.read_csv()`.\n",
        "\n",
        "> **Tip:** If the Google Sheet is public, `pd.read_csv()` can read it via URL, try searching for \"pandas read Google Sheet with URL\".\n",
        "\n",
        "In this case, the exported `.csv` file is called `car-sales.csv`."
      ]
    },
    {
      "cell_type": "code",
      "execution_count": 45,
      "metadata": {
        "id": "Te9AfHdpKwMk",
        "outputId": "10bd0654-08c2-40c6-ce3f-834a4c2da296",
        "colab": {
          "base_uri": "https://localhost:8080/",
          "height": 370
        }
      },
      "outputs": [
        {
          "output_type": "error",
          "ename": "FileNotFoundError",
          "evalue": "[Errno 2] No such file or directory: '../data/car-sales.csv'",
          "traceback": [
            "\u001b[0;31m---------------------------------------------------------------------------\u001b[0m",
            "\u001b[0;31mFileNotFoundError\u001b[0m                         Traceback (most recent call last)",
            "\u001b[0;32m<ipython-input-45-03083c47a00f>\u001b[0m in \u001b[0;36m<cell line: 2>\u001b[0;34m()\u001b[0m\n\u001b[1;32m      1\u001b[0m \u001b[0;31m# Import car sales data\u001b[0m\u001b[0;34m\u001b[0m\u001b[0;34m\u001b[0m\u001b[0m\n\u001b[0;32m----> 2\u001b[0;31m \u001b[0mcar_sales\u001b[0m \u001b[0;34m=\u001b[0m \u001b[0mpd\u001b[0m\u001b[0;34m.\u001b[0m\u001b[0mread_csv\u001b[0m\u001b[0;34m(\u001b[0m\u001b[0;34m\"../data/car-sales.csv\"\u001b[0m\u001b[0;34m)\u001b[0m \u001b[0;31m# takes a filename as string as input\u001b[0m\u001b[0;34m\u001b[0m\u001b[0;34m\u001b[0m\u001b[0m\n\u001b[0m\u001b[1;32m      3\u001b[0m \u001b[0;34m\u001b[0m\u001b[0m\n\u001b[1;32m      4\u001b[0m \u001b[0;31m# Option 2: Read directly from a URL/Google Sheets\u001b[0m\u001b[0;34m\u001b[0m\u001b[0;34m\u001b[0m\u001b[0m\n\u001b[1;32m      5\u001b[0m \u001b[0;31m# If you are reading from GitHub, be sure to use the \"raw\" link (original link: https://github.com/mrdbourke/zero-to-mastery-ml/blob/master/data/car-sales.csv)\u001b[0m\u001b[0;34m\u001b[0m\u001b[0;34m\u001b[0m\u001b[0m\n",
            "\u001b[0;32m/usr/local/lib/python3.10/dist-packages/pandas/io/parsers/readers.py\u001b[0m in \u001b[0;36mread_csv\u001b[0;34m(filepath_or_buffer, sep, delimiter, header, names, index_col, usecols, dtype, engine, converters, true_values, false_values, skipinitialspace, skiprows, skipfooter, nrows, na_values, keep_default_na, na_filter, verbose, skip_blank_lines, parse_dates, infer_datetime_format, keep_date_col, date_parser, date_format, dayfirst, cache_dates, iterator, chunksize, compression, thousands, decimal, lineterminator, quotechar, quoting, doublequote, escapechar, comment, encoding, encoding_errors, dialect, on_bad_lines, delim_whitespace, low_memory, memory_map, float_precision, storage_options, dtype_backend)\u001b[0m\n\u001b[1;32m   1024\u001b[0m     \u001b[0mkwds\u001b[0m\u001b[0;34m.\u001b[0m\u001b[0mupdate\u001b[0m\u001b[0;34m(\u001b[0m\u001b[0mkwds_defaults\u001b[0m\u001b[0;34m)\u001b[0m\u001b[0;34m\u001b[0m\u001b[0;34m\u001b[0m\u001b[0m\n\u001b[1;32m   1025\u001b[0m \u001b[0;34m\u001b[0m\u001b[0m\n\u001b[0;32m-> 1026\u001b[0;31m     \u001b[0;32mreturn\u001b[0m \u001b[0m_read\u001b[0m\u001b[0;34m(\u001b[0m\u001b[0mfilepath_or_buffer\u001b[0m\u001b[0;34m,\u001b[0m \u001b[0mkwds\u001b[0m\u001b[0;34m)\u001b[0m\u001b[0;34m\u001b[0m\u001b[0;34m\u001b[0m\u001b[0m\n\u001b[0m\u001b[1;32m   1027\u001b[0m \u001b[0;34m\u001b[0m\u001b[0m\n\u001b[1;32m   1028\u001b[0m \u001b[0;34m\u001b[0m\u001b[0m\n",
            "\u001b[0;32m/usr/local/lib/python3.10/dist-packages/pandas/io/parsers/readers.py\u001b[0m in \u001b[0;36m_read\u001b[0;34m(filepath_or_buffer, kwds)\u001b[0m\n\u001b[1;32m    618\u001b[0m \u001b[0;34m\u001b[0m\u001b[0m\n\u001b[1;32m    619\u001b[0m     \u001b[0;31m# Create the parser.\u001b[0m\u001b[0;34m\u001b[0m\u001b[0;34m\u001b[0m\u001b[0m\n\u001b[0;32m--> 620\u001b[0;31m     \u001b[0mparser\u001b[0m \u001b[0;34m=\u001b[0m \u001b[0mTextFileReader\u001b[0m\u001b[0;34m(\u001b[0m\u001b[0mfilepath_or_buffer\u001b[0m\u001b[0;34m,\u001b[0m \u001b[0;34m**\u001b[0m\u001b[0mkwds\u001b[0m\u001b[0;34m)\u001b[0m\u001b[0;34m\u001b[0m\u001b[0;34m\u001b[0m\u001b[0m\n\u001b[0m\u001b[1;32m    621\u001b[0m \u001b[0;34m\u001b[0m\u001b[0m\n\u001b[1;32m    622\u001b[0m     \u001b[0;32mif\u001b[0m \u001b[0mchunksize\u001b[0m \u001b[0;32mor\u001b[0m \u001b[0miterator\u001b[0m\u001b[0;34m:\u001b[0m\u001b[0;34m\u001b[0m\u001b[0;34m\u001b[0m\u001b[0m\n",
            "\u001b[0;32m/usr/local/lib/python3.10/dist-packages/pandas/io/parsers/readers.py\u001b[0m in \u001b[0;36m__init__\u001b[0;34m(self, f, engine, **kwds)\u001b[0m\n\u001b[1;32m   1618\u001b[0m \u001b[0;34m\u001b[0m\u001b[0m\n\u001b[1;32m   1619\u001b[0m         \u001b[0mself\u001b[0m\u001b[0;34m.\u001b[0m\u001b[0mhandles\u001b[0m\u001b[0;34m:\u001b[0m \u001b[0mIOHandles\u001b[0m \u001b[0;34m|\u001b[0m \u001b[0;32mNone\u001b[0m \u001b[0;34m=\u001b[0m \u001b[0;32mNone\u001b[0m\u001b[0;34m\u001b[0m\u001b[0;34m\u001b[0m\u001b[0m\n\u001b[0;32m-> 1620\u001b[0;31m         \u001b[0mself\u001b[0m\u001b[0;34m.\u001b[0m\u001b[0m_engine\u001b[0m \u001b[0;34m=\u001b[0m \u001b[0mself\u001b[0m\u001b[0;34m.\u001b[0m\u001b[0m_make_engine\u001b[0m\u001b[0;34m(\u001b[0m\u001b[0mf\u001b[0m\u001b[0;34m,\u001b[0m \u001b[0mself\u001b[0m\u001b[0;34m.\u001b[0m\u001b[0mengine\u001b[0m\u001b[0;34m)\u001b[0m\u001b[0;34m\u001b[0m\u001b[0;34m\u001b[0m\u001b[0m\n\u001b[0m\u001b[1;32m   1621\u001b[0m \u001b[0;34m\u001b[0m\u001b[0m\n\u001b[1;32m   1622\u001b[0m     \u001b[0;32mdef\u001b[0m \u001b[0mclose\u001b[0m\u001b[0;34m(\u001b[0m\u001b[0mself\u001b[0m\u001b[0;34m)\u001b[0m \u001b[0;34m->\u001b[0m \u001b[0;32mNone\u001b[0m\u001b[0;34m:\u001b[0m\u001b[0;34m\u001b[0m\u001b[0;34m\u001b[0m\u001b[0m\n",
            "\u001b[0;32m/usr/local/lib/python3.10/dist-packages/pandas/io/parsers/readers.py\u001b[0m in \u001b[0;36m_make_engine\u001b[0;34m(self, f, engine)\u001b[0m\n\u001b[1;32m   1878\u001b[0m                 \u001b[0;32mif\u001b[0m \u001b[0;34m\"b\"\u001b[0m \u001b[0;32mnot\u001b[0m \u001b[0;32min\u001b[0m \u001b[0mmode\u001b[0m\u001b[0;34m:\u001b[0m\u001b[0;34m\u001b[0m\u001b[0;34m\u001b[0m\u001b[0m\n\u001b[1;32m   1879\u001b[0m                     \u001b[0mmode\u001b[0m \u001b[0;34m+=\u001b[0m \u001b[0;34m\"b\"\u001b[0m\u001b[0;34m\u001b[0m\u001b[0;34m\u001b[0m\u001b[0m\n\u001b[0;32m-> 1880\u001b[0;31m             self.handles = get_handle(\n\u001b[0m\u001b[1;32m   1881\u001b[0m                 \u001b[0mf\u001b[0m\u001b[0;34m,\u001b[0m\u001b[0;34m\u001b[0m\u001b[0;34m\u001b[0m\u001b[0m\n\u001b[1;32m   1882\u001b[0m                 \u001b[0mmode\u001b[0m\u001b[0;34m,\u001b[0m\u001b[0;34m\u001b[0m\u001b[0;34m\u001b[0m\u001b[0m\n",
            "\u001b[0;32m/usr/local/lib/python3.10/dist-packages/pandas/io/common.py\u001b[0m in \u001b[0;36mget_handle\u001b[0;34m(path_or_buf, mode, encoding, compression, memory_map, is_text, errors, storage_options)\u001b[0m\n\u001b[1;32m    871\u001b[0m         \u001b[0;32mif\u001b[0m \u001b[0mioargs\u001b[0m\u001b[0;34m.\u001b[0m\u001b[0mencoding\u001b[0m \u001b[0;32mand\u001b[0m \u001b[0;34m\"b\"\u001b[0m \u001b[0;32mnot\u001b[0m \u001b[0;32min\u001b[0m \u001b[0mioargs\u001b[0m\u001b[0;34m.\u001b[0m\u001b[0mmode\u001b[0m\u001b[0;34m:\u001b[0m\u001b[0;34m\u001b[0m\u001b[0;34m\u001b[0m\u001b[0m\n\u001b[1;32m    872\u001b[0m             \u001b[0;31m# Encoding\u001b[0m\u001b[0;34m\u001b[0m\u001b[0;34m\u001b[0m\u001b[0m\n\u001b[0;32m--> 873\u001b[0;31m             handle = open(\n\u001b[0m\u001b[1;32m    874\u001b[0m                 \u001b[0mhandle\u001b[0m\u001b[0;34m,\u001b[0m\u001b[0;34m\u001b[0m\u001b[0;34m\u001b[0m\u001b[0m\n\u001b[1;32m    875\u001b[0m                 \u001b[0mioargs\u001b[0m\u001b[0;34m.\u001b[0m\u001b[0mmode\u001b[0m\u001b[0;34m,\u001b[0m\u001b[0;34m\u001b[0m\u001b[0;34m\u001b[0m\u001b[0m\n",
            "\u001b[0;31mFileNotFoundError\u001b[0m: [Errno 2] No such file or directory: '../data/car-sales.csv'"
          ]
        }
      ],
      "source": [
        "# Import car sales data\n",
        "#car_sales = pd.read_csv(\"../data/car-sales.csv\") # takes a filename as string as input\n",
        "\n",
        "# Option 2: Read directly from a URL/Google Sheets\n",
        "# If you are reading from GitHub, be sure to use the \"raw\" link (original link: https://github.com/mrdbourke/zero-to-mastery-ml/blob/master/data/car-sales.csv)\n",
        "car_sales = pd.read_csv(\"https://raw.githubusercontent.com/mrdbourke/zero-to-mastery-ml/master/data/car-sales.csv\")\n",
        "car_sales"
      ]
    },
    {
      "cell_type": "markdown",
      "metadata": {
        "id": "NEQeNRy5KwMl"
      },
      "source": [
        "Now we've got the same data from the spreadsheet available in a pandas `DataFrame` called `car_sales`.\n",
        "\n",
        "Having your data available in a `DataFrame` allows you to take advantage of all of pandas functionality on it.\n",
        "\n",
        "Another common practice you'll see is data being imported to `DataFrame` called `df` (short for `DataFrame`)."
      ]
    },
    {
      "cell_type": "code",
      "execution_count": null,
      "metadata": {
        "id": "w7GGpIdHKwMl"
      },
      "outputs": [],
      "source": [
        "# Import the car sales data and save it to df\n",
        "\n",
        "# Option 1: Read from a CSV file (stored on our local computer)\n",
        "df = pd.read_csv(\"../data/car-sales.csv\")\n",
        "\n",
        "# Option 2: Read directly from a URL/Google Sheets (if the file is hosted online)\n",
        "df = pd.read_csv(\"https://raw.githubusercontent.com/mrdbourke/zero-to-mastery-ml/master/data/car-sales.csv\")\n",
        "df"
      ]
    },
    {
      "cell_type": "markdown",
      "metadata": {
        "id": "KvpVliqQKwMn"
      },
      "source": [
        "Now `car_sales` and `df` contain the exact same information, the only difference is the name. Like any other variable, you can name your `DataFrame`'s whatever you want. But best to choose something simple.\n",
        "\n",
        "### Anatomy of a DataFrame\n",
        "\n",
        "Different functions use different labels for different things. This graphic sums up some of the main components of `DataFrame`'s and their different names.\n",
        "\n",
        "<img src=\"https://github.com/mrdbourke/zero-to-mastery-ml/blob/master/images/pandas-dataframe-anatomy.png?raw=1\" alt=\"pandas dataframe with different sections labelled\" width=\"800\"/>\n"
      ]
    },
    {
      "cell_type": "markdown",
      "metadata": {
        "id": "QEoK1O3hKwMo"
      },
      "source": [
        "## 3. Exporting data\n",
        "\n",
        "After you've made a few changes to your data, you might want to export it and save it so someone else can access the changes.\n",
        "\n",
        "pandas allows you to export `DataFrame`'s to `.csv` format using [`.to_csv()`](https://pandas.pydata.org/docs/reference/api/pandas.DataFrame.to_csv.html) or spreadsheet format using [`.to_excel()`](https://pandas.pydata.org/docs/reference/api/pandas.DataFrame.to_excel.html).\n",
        "\n",
        "We haven't made any changes yet to the `car_sales` `DataFrame` but let's try export it."
      ]
    },
    {
      "cell_type": "code",
      "execution_count": null,
      "metadata": {
        "id": "AlSQmm7PKwMo"
      },
      "outputs": [],
      "source": [
        "# Export the car sales DataFrame to csv\n",
        "car_sales.to_csv(\"../data/exported-car-sales.csv\")"
      ]
    },
    {
      "cell_type": "markdown",
      "metadata": {
        "id": "TpViO3ykKwMp"
      },
      "source": [
        "Running this will save a file called `export-car-sales.csv` to the current folder.\n",
        "\n",
        "<img src=\"https://github.com/mrdbourke/zero-to-mastery-ml/blob/master/images/pandas-exported-car-sales-csv.png?raw=1\" alt=\"folder with exported car sales csv file highlighted\" width=\"600\"/>"
      ]
    },
    {
      "cell_type": "markdown",
      "metadata": {
        "id": "gr4j5h0WKwMq"
      },
      "source": [
        "## Exercises\n",
        "\n",
        "1. Practice importing a `.csv` file using `pd.read_csv()`, you can download `heart-disease.csv`. This file contains annonymous patient medical records and whether or not they have heart disease.\n",
        "2. Practice exporting a `DataFrame` using `.to_csv()`. You could export the heart disease `DataFrame` after you've imported it.\n",
        "\n",
        "**Note:**\n",
        "* Make sure the `heart-disease.csv` file is in the same folder as your notebook orbe sure to use the filepath where the file is.\n",
        "* You can name the variables and exported files whatever you like but make sure they're readable."
      ]
    },
    {
      "cell_type": "code",
      "execution_count": null,
      "metadata": {
        "id": "0VxuUZcLKwMq"
      },
      "outputs": [],
      "source": [
        "# Your code here\n"
      ]
    },
    {
      "cell_type": "markdown",
      "metadata": {
        "id": "5F0PSd-RKwMr"
      },
      "source": [
        "### Example solution"
      ]
    },
    {
      "cell_type": "code",
      "execution_count": null,
      "metadata": {
        "id": "eVhlHeyQKwMs"
      },
      "outputs": [],
      "source": [
        "# Importing heart-disease.csv\n",
        "patient_data = pd.read_csv(\"../data/heart-disease.csv\")\n",
        "patient_data"
      ]
    },
    {
      "cell_type": "code",
      "execution_count": null,
      "metadata": {
        "id": "YPcajEt1KwMt"
      },
      "outputs": [],
      "source": [
        "# Exporting the patient_data DataFrame to csv\n",
        "patient_data.to_csv(\"../data/exported-patient-data.csv\")"
      ]
    },
    {
      "cell_type": "markdown",
      "metadata": {
        "id": "swGWd7kEKwMt"
      },
      "source": [
        "<img src=\"https://github.com/mrdbourke/zero-to-mastery-ml/blob/master/images/pandas-exported-patient-data-csv.png?raw=1\" alt=\"folder containing exported patient data csv file\" width=\"600\"/>"
      ]
    },
    {
      "cell_type": "markdown",
      "metadata": {
        "id": "n-ZD2P3JKwMu"
      },
      "source": [
        "## 4. Describing data\n",
        "\n",
        "One of the first things you'll want to do after you import some data into a pandas `DataFrame` is to start exploring it.\n",
        "\n",
        "pandas has many built in functions which allow you to quickly get information about a `DataFrame`.\n",
        "\n",
        "Let's explore some using the `car_sales` `DataFrame`."
      ]
    },
    {
      "cell_type": "code",
      "execution_count": null,
      "metadata": {
        "id": "ulegtsa3KwMw"
      },
      "outputs": [],
      "source": [
        "car_sales"
      ]
    },
    {
      "cell_type": "markdown",
      "metadata": {
        "id": "jYhvvx2xKwMy"
      },
      "source": [
        "[`.dtypes`](https://pandas.pydata.org/docs/reference/api/pandas.DataFrame.dtypes.html) shows us what datatype each column contains."
      ]
    },
    {
      "cell_type": "code",
      "execution_count": null,
      "metadata": {
        "id": "z3S3T3xlKwMy"
      },
      "outputs": [],
      "source": [
        "car_sales.dtypes"
      ]
    },
    {
      "cell_type": "markdown",
      "metadata": {
        "id": "BSef83xsKwMz"
      },
      "source": [
        "Notice how the `Price` column isn't an integer like `Odometer` or `Doors`. Don't worry, pandas makes this easy to fix."
      ]
    },
    {
      "cell_type": "markdown",
      "metadata": {
        "id": "dSWwLuPOKwM0"
      },
      "source": [
        "[`.describe()`](https://pandas.pydata.org/docs/reference/api/pandas.DataFrame.describe.html) gives you a quick statistical overview of the numerical columns."
      ]
    },
    {
      "cell_type": "code",
      "execution_count": null,
      "metadata": {
        "id": "QaCkXvNtKwM0"
      },
      "outputs": [],
      "source": [
        "car_sales.describe()"
      ]
    },
    {
      "cell_type": "markdown",
      "metadata": {
        "id": "im3FMGWeKwM1"
      },
      "source": [
        "[`.info()`](https://pandas.pydata.org/docs/reference/api/pandas.DataFrame.info.html) shows a handful of useful information about a `DataFrame` such as:\n",
        "* How many entries (rows) there are\n",
        "* Whether there are missing values (if a columns non-null value is less than the number of entries, it has missing values)\n",
        "* The datatypes of each column"
      ]
    },
    {
      "cell_type": "code",
      "execution_count": null,
      "metadata": {
        "id": "mSWhc2NaKwM3"
      },
      "outputs": [],
      "source": [
        "car_sales.info()"
      ]
    },
    {
      "cell_type": "markdown",
      "metadata": {
        "id": "GU9GYu1eKwM4"
      },
      "source": [
        "You can also call various statistical and mathematical methods such as [`.mean()`](https://pandas.pydata.org/docs/reference/api/pandas.DataFrame.mean.html) or [`.sum()`](https://pandas.pydata.org/docs/reference/api/pandas.DataFrame.sum.html) directly on a `DataFrame` or `Series`."
      ]
    },
    {
      "cell_type": "code",
      "execution_count": null,
      "metadata": {
        "id": "aHDGZtFkKwM5"
      },
      "outputs": [],
      "source": [
        "# Calling .mean() on a DataFrame\n",
        "car_sales.mean(numeric_only=True) # numeric_only = get mean values of numeric columnns only"
      ]
    },
    {
      "cell_type": "code",
      "execution_count": null,
      "metadata": {
        "id": "aZCM7TMYKwM6"
      },
      "outputs": [],
      "source": [
        "# Calling .mean() on a Series\n",
        "car_prices = pd.Series([3000, 3500, 11250])\n",
        "car_prices.mean()"
      ]
    },
    {
      "cell_type": "code",
      "execution_count": null,
      "metadata": {
        "id": "HWRBOniOKwM8"
      },
      "outputs": [],
      "source": [
        "# Calling .sum() on a DataFrame with numeric_only=False (default)\n",
        "car_sales.sum(numeric_only=False)"
      ]
    },
    {
      "cell_type": "code",
      "execution_count": null,
      "metadata": {
        "id": "cdrZd3JIKwM_"
      },
      "outputs": [],
      "source": [
        "# Calling .sum() on a DataFrame with numeric_only=True\n",
        "car_sales.sum(numeric_only=True)"
      ]
    },
    {
      "cell_type": "code",
      "execution_count": null,
      "metadata": {
        "id": "4Fu8qNdCKwNB"
      },
      "outputs": [],
      "source": [
        "# Calling .sum() on a Series\n",
        "car_prices.sum()"
      ]
    },
    {
      "cell_type": "markdown",
      "metadata": {
        "id": "llnHp5XvKwNC"
      },
      "source": [
        "Calling these on a whole `DataFrame` may not be as helpful as targeting an individual column. But it's helpful to know they're there.\n",
        "\n",
        "`.columns` will show you all the columns of a `DataFrame`."
      ]
    },
    {
      "cell_type": "code",
      "execution_count": null,
      "metadata": {
        "id": "8XKlYT9dKwNC"
      },
      "outputs": [],
      "source": [
        "car_sales.columns"
      ]
    },
    {
      "cell_type": "markdown",
      "metadata": {
        "id": "hg-BhfRmKwND"
      },
      "source": [
        "You can save them to a list which you could use later."
      ]
    },
    {
      "cell_type": "code",
      "execution_count": null,
      "metadata": {
        "id": "hbdd-POiKwNE"
      },
      "outputs": [],
      "source": [
        "# Save car_sales columns to a list\n",
        "car_columns = car_sales.columns\n",
        "car_columns[0]"
      ]
    },
    {
      "cell_type": "markdown",
      "metadata": {
        "id": "MD3wSyIJKwNF"
      },
      "source": [
        "`.index` will show you the values in a `DataFrame`'s index (the column on the far left)."
      ]
    },
    {
      "cell_type": "code",
      "execution_count": null,
      "metadata": {
        "id": "Dy-PVyDdKwNG"
      },
      "outputs": [],
      "source": [
        "car_sales.index"
      ]
    },
    {
      "cell_type": "markdown",
      "metadata": {
        "id": "794cbHumKwNI"
      },
      "source": [
        "pandas `DataFrame`'s, like Python lists, are 0-indexed (unless otherwise changed). This means they start at 0.\n",
        "\n",
        "<img src=\"https://github.com/mrdbourke/zero-to-mastery-ml/blob/master/images/pandas-dataframe-zero-indexed.png?raw=1\" alt=\"dataframe with index number 0 highlighted\" width=\"700\"/>"
      ]
    },
    {
      "cell_type": "code",
      "execution_count": null,
      "metadata": {
        "id": "--n_-hlMKwNJ"
      },
      "outputs": [],
      "source": [
        "# Show the length of a DataFrame\n",
        "len(car_sales)"
      ]
    },
    {
      "cell_type": "markdown",
      "metadata": {
        "id": "jT60kTMeKwNK"
      },
      "source": [
        "So even though the length of our `car_sales` dataframe is 10, this means the indexes go from 0-9."
      ]
    },
    {
      "cell_type": "markdown",
      "metadata": {
        "id": "a3HJ1DtXKwNL"
      },
      "source": [
        "## 5. Viewing and selecting data\n",
        "\n",
        "Some common methods for viewing and selecting data in a pandas DataFrame include:\n",
        "\n",
        "* [`DataFrame.head(n=5)`](https://pandas.pydata.org/docs/reference/api/pandas.DataFrame.head.html) - Displays the first `n` rows of a DataFrame (e.g. `car_sales.head()` will show the first 5 rows of the `car_sales` DataFrame).\n",
        "* [`DataFrame.tail(n=5)`](https://pandas.pydata.org/docs/reference/api/pandas.DataFrame.tail.html) - Displays the last `n` rows of a DataFrame.\n",
        "* [`DataFrame.loc[]`](https://pandas.pydata.org/docs/reference/api/pandas.DataFrame.loc.html) - Accesses a group of rows and columns by labels or a boolean array.\n",
        "* [`DataFrame.iloc[]`](https://pandas.pydata.org/docs/reference/api/pandas.DataFrame.iloc.html) - Accesses a group of rows and columns by integer indices (e.g. `car_sales.iloc[0]` shows all the columns from index `0`.\n",
        "* [`DataFrame.columns`](https://pandas.pydata.org/docs/reference/api/pandas.DataFrame.columns.html) -  Lists the column labels of the DataFrame.\n",
        "* `DataFrame['A']` - Selects the column named `'A'` from the DataFrame.\n",
        "* `DataFrame[DataFrame['A'] > 5]` - Boolean indexing filters rows based on column values meeting a condition (e.g. all rows from column `'A'` greater than `5`.\n",
        "* [`DataFrame.plot()`](https://pandas.pydata.org/docs/reference/api/pandas.DataFrame.plot.html) - Creates a line plot of a DataFrame's columns (e.g. plot `Make` vs. `Odometer (KM)` columns with `car_sales[[\"Make\", \"Odometer (KM)\"]].plot();`).\n",
        "* [`DataFrame.hist()`](https://pandas.pydata.org/docs/reference/api/pandas.DataFrame.hist.html) - Generates histograms for columns in a DataFrame.\n",
        "* [`pandas.crosstab()`](https://pandas.pydata.org/docs/reference/api/pandas.crosstab.html) - Computes a cross-tabulation of two or more factors.\n",
        "\n",
        "In practice, you'll constantly be making changes to your data, and viewing it. Changing it, viewing it, changing it, viewing it.\n",
        "\n",
        "You won't always want to change all of the data in your `DataFrame`'s either. So there are just as many different ways to select data as there is to view it.\n",
        "\n",
        "`.head()` allows you to view the first 5 rows of your `DataFrame`. You'll likely be using this one a lot."
      ]
    },
    {
      "cell_type": "code",
      "execution_count": null,
      "metadata": {
        "id": "5QZccN9SKwNM"
      },
      "outputs": [],
      "source": [
        "# Show the first 5 rows of car_sales\n",
        "car_sales.head()"
      ]
    },
    {
      "cell_type": "markdown",
      "metadata": {
        "id": "VO-nETSxKwNN"
      },
      "source": [
        "Why 5 rows? Good question. I don't know the answer. But 5 seems like a good amount.\n",
        "\n",
        "Want more than 5?\n",
        "\n",
        "No worries, you can pass `.head()` an integer to display more than or less than 5 rows."
      ]
    },
    {
      "cell_type": "code",
      "execution_count": null,
      "metadata": {
        "id": "Pp64-3uCKwNN"
      },
      "outputs": [],
      "source": [
        "# Show the first 7 rows of car_sales\n",
        "car_sales.head(7)"
      ]
    },
    {
      "cell_type": "markdown",
      "metadata": {
        "id": "SQuh7idNKwNO"
      },
      "source": [
        "`.tail()` allows you to see the bottom 5 rows of your `DataFrame`. This is helpful if your changes are influencing the bottom rows of your data."
      ]
    },
    {
      "cell_type": "code",
      "execution_count": null,
      "metadata": {
        "id": "Nq8OviruKwNP"
      },
      "outputs": [],
      "source": [
        "# Show bottom 5 rows of car_sales\n",
        "car_sales.tail()"
      ]
    },
    {
      "cell_type": "markdown",
      "metadata": {
        "id": "9LINFZcOKwNQ"
      },
      "source": [
        "You can use `.loc[]` and `.iloc[]` to select data from your `Series` and `DataFrame`'s.\n",
        "\n",
        "Let's see."
      ]
    },
    {
      "cell_type": "code",
      "execution_count": null,
      "metadata": {
        "id": "HMm3jjX6KwNQ"
      },
      "outputs": [],
      "source": [
        "# Create a sample series\n",
        "animals = pd.Series([\"cat\", \"dog\", \"bird\", \"snake\", \"ox\", \"lion\"],\n",
        "                    index=[0, 3, 9, 8, 67, 3])\n",
        "animals"
      ]
    },
    {
      "cell_type": "markdown",
      "metadata": {
        "id": "ydosmvyNKwNR"
      },
      "source": [
        "[`.loc[]`](https://pandas.pydata.org/docs/reference/api/pandas.DataFrame.loc.html) takes an integer or label as input. And it chooses from your `Series` or `DataFrame` whichever index matches the number."
      ]
    },
    {
      "cell_type": "code",
      "execution_count": null,
      "metadata": {
        "id": "t6BZBqHkKwNS"
      },
      "outputs": [],
      "source": [
        "# Select all indexes with 3\n",
        "animals.loc[3]"
      ]
    },
    {
      "cell_type": "code",
      "execution_count": null,
      "metadata": {
        "id": "tHU4aGyLKwNT"
      },
      "outputs": [],
      "source": [
        "# Select index 9\n",
        "animals.loc[9]"
      ]
    },
    {
      "cell_type": "markdown",
      "metadata": {
        "id": "f3UnThOkKwNU"
      },
      "source": [
        "Let's try with our `car_sales` DataFrame."
      ]
    },
    {
      "cell_type": "code",
      "execution_count": null,
      "metadata": {
        "id": "Xl9I1PrWKwNV"
      },
      "outputs": [],
      "source": [
        "car_sales"
      ]
    },
    {
      "cell_type": "code",
      "execution_count": null,
      "metadata": {
        "id": "qAZtWZmsKwNW"
      },
      "outputs": [],
      "source": [
        "# Select row at index 3\n",
        "car_sales.loc[3]"
      ]
    },
    {
      "cell_type": "markdown",
      "metadata": {
        "id": "A-kK0F4pKwNX"
      },
      "source": [
        "[`iloc[]`](https://pandas.pydata.org/docs/reference/api/pandas.DataFrame.iloc.html) does a similar thing but works with exact positions.\n"
      ]
    },
    {
      "cell_type": "code",
      "execution_count": null,
      "metadata": {
        "id": "WC9Ea69pKwNX"
      },
      "outputs": [],
      "source": [
        "animals"
      ]
    },
    {
      "cell_type": "code",
      "execution_count": null,
      "metadata": {
        "id": "JblXuBkYKwNZ"
      },
      "outputs": [],
      "source": [
        "# Select row at position 3\n",
        "animals.iloc[3]"
      ]
    },
    {
      "cell_type": "markdown",
      "metadata": {
        "id": "Cw4LZsbpKwNa"
      },
      "source": [
        "Even though `'snake'` appears at index 8 in the series, it's shown using `.iloc[3]` because it's at the 3rd (starting from 0) position.\n",
        "\n",
        "Let's try with the `car_sales` `DataFrame`."
      ]
    },
    {
      "cell_type": "code",
      "execution_count": null,
      "metadata": {
        "id": "8wCI5cP-KwNb"
      },
      "outputs": [],
      "source": [
        "# Select row at position 3\n",
        "car_sales.iloc[3]"
      ]
    },
    {
      "cell_type": "markdown",
      "metadata": {
        "id": "dUqPGS0_KwNc"
      },
      "source": [
        "You can see it's the same as `.loc[]` because the index is in order, position 3 is the same as index 3.\n",
        "\n",
        "You can also use slicing with `.loc[]` and `.iloc[]`."
      ]
    },
    {
      "cell_type": "code",
      "execution_count": null,
      "metadata": {
        "id": "A9dP3--MKwNc"
      },
      "outputs": [],
      "source": [
        "# Get all rows up to position 3\n",
        "animals.iloc[:3]"
      ]
    },
    {
      "cell_type": "code",
      "execution_count": null,
      "metadata": {
        "id": "ZGOQqGEAKwNd"
      },
      "outputs": [],
      "source": [
        "# Get all rows up to (and including) index 3\n",
        "car_sales.loc[:3]"
      ]
    },
    {
      "cell_type": "code",
      "execution_count": null,
      "metadata": {
        "id": "aM2daFclKwNe"
      },
      "outputs": [],
      "source": [
        "# Get all rows of the \"Colour\" column\n",
        "car_sales.loc[:, \"Colour\"] # note: \":\" stands for \"all\", e.g. \"all indices in the first axis\""
      ]
    },
    {
      "cell_type": "markdown",
      "metadata": {
        "id": "EktRiAw1KwNg"
      },
      "source": [
        "When should you use `.loc[]` or `.iloc[]`?\n",
        "* Use `.loc[]` when you're selecting rows and columns **based on their lables or a condition** (e.g. retrieving data for specific columns).\n",
        "* Use `.iloc[]` when you're selecting rows and columns **based on their integer index positions** (e.g. extracting the first ten rows regardless of the labels).\n",
        "\n",
        "However, in saying this, it will often take a bit of practice with each of the methods before you figure out which you'd like to use."
      ]
    },
    {
      "cell_type": "markdown",
      "metadata": {
        "id": "lcjgn0hBKwNh"
      },
      "source": [
        "If you want to select a particular column, you can use `DataFrame.['COLUMN_NAME']`."
      ]
    },
    {
      "cell_type": "code",
      "execution_count": null,
      "metadata": {
        "id": "bLpBc_9BKwNh"
      },
      "outputs": [],
      "source": [
        "# Select Make column\n",
        "car_sales['Make']"
      ]
    },
    {
      "cell_type": "code",
      "execution_count": null,
      "metadata": {
        "id": "kCG70ka3KwNi"
      },
      "outputs": [],
      "source": [
        "# Select Colour column\n",
        "car_sales['Colour']"
      ]
    },
    {
      "cell_type": "markdown",
      "metadata": {
        "id": "5hBZYry9KwNl"
      },
      "source": [
        "Boolean indexing works with column selection too. Using it will select the rows which fulfill the condition in the brackets."
      ]
    },
    {
      "cell_type": "code",
      "execution_count": null,
      "metadata": {
        "id": "id_408cDKwNm"
      },
      "outputs": [],
      "source": [
        "# Select cars with over 100,000 on the Odometer\n",
        "car_sales[car_sales[\"Odometer (KM)\"] > 100000]"
      ]
    },
    {
      "cell_type": "code",
      "execution_count": null,
      "metadata": {
        "id": "dbdeq0XIKwNo"
      },
      "outputs": [],
      "source": [
        "# Select cars which are made by Toyota\n",
        "car_sales[car_sales[\"Make\"] == \"Toyota\"]"
      ]
    },
    {
      "cell_type": "markdown",
      "metadata": {
        "id": "QqCis_RBKwNp"
      },
      "source": [
        "`pd.crosstab()` is a great way to view two different columns together and compare them."
      ]
    },
    {
      "cell_type": "code",
      "execution_count": null,
      "metadata": {
        "id": "GoE9XNyQKwNq"
      },
      "outputs": [],
      "source": [
        "# Compare car Make with number of Doors\n",
        "pd.crosstab(car_sales[\"Make\"], car_sales[\"Doors\"])"
      ]
    },
    {
      "cell_type": "markdown",
      "metadata": {
        "id": "lpfCZqWAKwNr"
      },
      "source": [
        "If you want to compare more columns in the context of another column, you can use `.groupby()`."
      ]
    },
    {
      "cell_type": "code",
      "execution_count": null,
      "metadata": {
        "id": "xwM5Zr1AKwNr"
      },
      "outputs": [],
      "source": [
        "car_sales"
      ]
    },
    {
      "cell_type": "code",
      "execution_count": null,
      "metadata": {
        "id": "ttEk-SzPKwNs"
      },
      "outputs": [],
      "source": [
        "# Group by the Make column and find the mean of the other columns\n",
        "car_sales.groupby([\"Make\"]).mean(numeric_only=True)"
      ]
    },
    {
      "cell_type": "markdown",
      "metadata": {
        "id": "Mjrs5wTqKwNt"
      },
      "source": [
        "pandas even allows for quick plotting of columns so you can see your data visualling. To plot, you'll have to import `matplotlib`. If your plots aren't showing, try running the two lines of code below.\n",
        "\n",
        "`%matplotlib inline` is a special command which tells Jupyter to show your plots. Commands with `%` at the front are called magic commands."
      ]
    },
    {
      "cell_type": "code",
      "execution_count": null,
      "metadata": {
        "id": "tvx8XtfrKwNu"
      },
      "outputs": [],
      "source": [
        "# Import matplotlib and tell Jupyter to show plots\n",
        "import matplotlib.pyplot as plt\n",
        "%matplotlib inline"
      ]
    },
    {
      "cell_type": "markdown",
      "metadata": {
        "id": "wC82_WtXKwNv"
      },
      "source": [
        "You can visualize a column by calling `.plot()` on it."
      ]
    },
    {
      "cell_type": "code",
      "execution_count": null,
      "metadata": {
        "id": "3LswLrdHKwNv"
      },
      "outputs": [],
      "source": [
        "car_sales[\"Odometer (KM)\"].plot(); # tip: the \";\" on the end prevents matplotlib from outputing the plot class"
      ]
    },
    {
      "cell_type": "markdown",
      "metadata": {
        "id": "z7GCMYHjKwNw"
      },
      "source": [
        "Or compare two columns by passing them as `x` and `y` to `plot()`."
      ]
    },
    {
      "cell_type": "code",
      "execution_count": null,
      "metadata": {
        "id": "AHfdaAceKwNx"
      },
      "outputs": [],
      "source": [
        "car_sales.plot(x=\"Make\", y=\"Odometer (KM)\");"
      ]
    },
    {
      "cell_type": "markdown",
      "metadata": {
        "id": "lkbrI1MHKwNy"
      },
      "source": [
        "You can see the distribution of a column by calling `.hist()` on you.\n",
        "\n",
        "The distribution of something is a way of describing the spread of different values."
      ]
    },
    {
      "cell_type": "code",
      "execution_count": null,
      "metadata": {
        "id": "SBRcnh_mKwNy"
      },
      "outputs": [],
      "source": [
        "car_sales[\"Odometer (KM)\"].hist()"
      ]
    },
    {
      "cell_type": "markdown",
      "metadata": {
        "id": "swpOP-hdKwNz"
      },
      "source": [
        "In this case, the majority of the **distribution** (spread) of the `\"Odometer (KM)\"` column is more towards the left of the graph. And there are two values which are more to the right. These two values to the right could be considered **outliers** (not part of the majority).\n",
        "\n",
        "Now what if we wanted to plot our `\"Price\"` column?\n",
        "\n",
        "Let's try."
      ]
    },
    {
      "cell_type": "code",
      "execution_count": null,
      "metadata": {
        "id": "b4VRfBGBKwN0"
      },
      "outputs": [],
      "source": [
        "car_sales[\"Price\"].plot()"
      ]
    },
    {
      "cell_type": "markdown",
      "metadata": {
        "id": "cjACV_B6KwN1"
      },
      "source": [
        "Trying to run it leaves us with an error. This is because the `\"Price\"` column of `car_sales` isn't in numeric form. We can tell this because of the `TypeError: no numeric data to plot` at the bottom of the cell.\n",
        "\n",
        "We can check this with `.info()`."
      ]
    },
    {
      "cell_type": "code",
      "execution_count": null,
      "metadata": {
        "id": "qMa02-_rKwN2"
      },
      "outputs": [],
      "source": [
        "car_sales.info()"
      ]
    },
    {
      "cell_type": "markdown",
      "metadata": {
        "id": "LeVaynNAKwN3"
      },
      "source": [
        "So what can we do?\n",
        "\n",
        "We need to convert the `\"Price\"` column to a numeric type.\n",
        "\n",
        "How?\n",
        "\n",
        "We could try a few different things on our own. But let's practice researching.\n",
        "\n",
        "\n",
        "\n",
        "**1.** Open up a search engine and type in something like \"how to convert a pandas column price to integer\".\n",
        "\n",
        "In the first result, I found this [Stack Overflow question and answer](https://stackoverflow.com/questions/44469313/price-column-object-to-int-in-pandas) . Where someone has had the same problem as us and someone else has provided an answer.\n",
        "\n",
        "> **Note:** Sometimes the answer you're looking for won't be in the first result, or the 2nd or the 3rd. You may have to combine a few different solutions. Or, if possible, you can try and ask ChatGPT to help you out.\n",
        "\n",
        "**2.** In practice, you'd read through this and see if it relates to your problem.\n",
        "\n",
        "**3.** If it does, you can adjust the code from what's given in the Stack Overflow answer(s) to your own problem.\n",
        "\n",
        "**4.** If you're still stuck, you can try and converse with ChatGPT to help you with your problem (as long as the data/problem you're working on is okay to share - never share private data with anyone on the internet, including AI chatbots).\n",
        "\n",
        "<img src=\"https://github.com/mrdbourke/zero-to-mastery-ml/blob/master/images/pandas-steps-in-stack-overflow-process.png?raw=1\" alt=\"steps in researching a problem you have using Google and Stack Overflow\" width=\"1000\"/>\n",
        "\n",
        "What's important in the beginning is not to remember every single detail off by heart but to know where to look. Remember, if in doubt, write code, run it, see what happens.\n",
        "\n",
        "Let's copy the answer code here and see how it relates to our problem.\n",
        "\n",
        "Answer code: ```dataframe['amount'] = dataframe['amount'].str.replace('[\\$\\,\\.]', '').astype(int)```\n",
        "\n",
        "There's a lot going on here but what we can do is change the parts which aren't in our problem and keep the rest the same.\n",
        "\n",
        "Our `DataFrame` is called `car_sales` not `dataframe`.\n",
        "\n",
        "```car_sales['amount'] = car_sales['amount'].str.replace('[\\$\\,\\.]', '').astype(int)```\n",
        "\n",
        "And our `'amount'` column is called `\"Price\"`.\n",
        "\n",
        "```car_sales[\"Price\"] = car_sales[\"Price\"].str.replace('[\\$\\,\\.]', '').astype(int)```\n",
        "\n",
        "That looks better. What the code on the right of `car_sales[\"Price\"]` is saying is \"remove the $ sign and comma and change the type of the cell to int\".\n",
        "\n",
        "Let's see what happens."
      ]
    },
    {
      "cell_type": "code",
      "execution_count": null,
      "metadata": {
        "id": "YqI1d0F6KwN4"
      },
      "outputs": [],
      "source": [
        "# Change Price column to integers\n",
        "car_sales[\"Price\"] = car_sales[\"Price\"].str.replace('[\\$\\,\\.]', '', regex=True)\n",
        "car_sales"
      ]
    },
    {
      "cell_type": "markdown",
      "metadata": {
        "id": "S-N8Nz0rKwN5"
      },
      "source": [
        "Cool! but there are extra zeros in the `Price` column.\n",
        "\n",
        "Let's remove it."
      ]
    },
    {
      "cell_type": "code",
      "execution_count": null,
      "metadata": {
        "id": "1Q6HY4dNKwN6"
      },
      "outputs": [],
      "source": [
        "# Remove 2 extra zeros from the price column (2200000 -> 22000) by indexing all but the last two digits\n",
        "car_sales[\"Price\"] = car_sales[\"Price\"].str[:-2].astype(int)\n",
        "car_sales"
      ]
    },
    {
      "cell_type": "code",
      "execution_count": null,
      "metadata": {
        "id": "-anY01O9KwN7"
      },
      "outputs": [],
      "source": [
        "car_sales.dtypes"
      ]
    },
    {
      "cell_type": "markdown",
      "metadata": {
        "id": "9PBH1-qUKwN8"
      },
      "source": [
        "Beautiful! Now let's try to plot it agian."
      ]
    },
    {
      "cell_type": "code",
      "execution_count": null,
      "metadata": {
        "id": "cXsQDjYIKwN-"
      },
      "outputs": [],
      "source": [
        "car_sales[\"Price\"].plot();"
      ]
    },
    {
      "cell_type": "markdown",
      "metadata": {
        "id": "4-QfJWkiKwN_"
      },
      "source": [
        "This is one of the many ways you can manipulate data using pandas.\n",
        "\n",
        "When you see a number of different functions in a row, it's referred to as **chaining**. This means you add together a series of functions all to do one overall task.\n",
        "\n",
        "Let's see a few more ways of manipulating data."
      ]
    },
    {
      "cell_type": "markdown",
      "metadata": {
        "id": "Qfmx-qJZKwN_"
      },
      "source": [
        "## 6. Manipulating data\n",
        "\n",
        "You've seen an example of one way to manipulate data but pandas has many more.\n",
        "\n",
        "How many more?\n",
        "\n",
        "Put it this way, if you can imagine it, chances are, pandas can do it.\n",
        "\n",
        "Let's start with string methods. Because pandas is based on Python, however you can manipulate strings in Python, you can do the same in pandas.\n",
        "\n",
        "You can access the string value of a column using `.str`. Knowing this, how do you think you'd set a column to lowercase?"
      ]
    },
    {
      "cell_type": "code",
      "execution_count": null,
      "metadata": {
        "id": "yBm0u5qAKwOA"
      },
      "outputs": [],
      "source": [
        "# Lower the Make column\n",
        "car_sales[\"Make\"].str.lower()"
      ]
    },
    {
      "cell_type": "markdown",
      "metadata": {
        "id": "jdRe45K3KwOB"
      },
      "source": [
        "Notice how it doesn't change the values of the original `car_sales` `DataFrame` unless we set it equal to."
      ]
    },
    {
      "cell_type": "code",
      "execution_count": null,
      "metadata": {
        "id": "mROnZOqSKwOC"
      },
      "outputs": [],
      "source": [
        "# View top 5 rows, Make column not lowered\n",
        "car_sales.head()"
      ]
    },
    {
      "cell_type": "code",
      "execution_count": null,
      "metadata": {
        "id": "mZANTVv0KwOE"
      },
      "outputs": [],
      "source": [
        "# Set Make column to be lowered\n",
        "car_sales[\"Make\"] = car_sales[\"Make\"].str.lower()\n",
        "car_sales.head()"
      ]
    },
    {
      "cell_type": "markdown",
      "metadata": {
        "id": "T5HlFus_KwOF"
      },
      "source": [
        "Reassigning the column changes it in the original `DataFrame`. This trend occurs throughout all kinds of data manipulation with pandas.\n",
        "\n",
        "Some functions have a parameter called `inplace` which means a `DataFrame` is updated in place without having to reassign it.\n",
        "\n",
        "Let's see what it looks like in combination with `.fillna()`, a function which fills missing data. But the thing is, our table isn't missing any data.\n",
        "\n",
        "In practice, it's likely you'll work with datasets which aren't complete. What this means is you'll have to decide whether how to fill the missing data or remove the rows which have data missing.\n",
        "\n",
        "Let's check out what a version of our `car_sales` `DataFrame` might look like with missing values."
      ]
    },
    {
      "cell_type": "code",
      "execution_count": null,
      "metadata": {
        "id": "WuxNvvtQKwOH"
      },
      "outputs": [],
      "source": [
        "# Option 1: Import car sales data with missing values from local file (stored on our computer)\n",
        "car_sales_missing = pd.read_csv(\"../data/car-sales-missing-data.csv\")\n",
        "\n",
        "# Option 2: Import car sales data with missing values from GitHub (if the file is hosted online)\n",
        "car_sales_missing = pd.read_csv(\"https://raw.githubusercontent.com/mrdbourke/zero-to-mastery-ml/master/data/car-sales-missing-data.csv\")\n",
        "car_sales_missing"
      ]
    },
    {
      "cell_type": "markdown",
      "metadata": {
        "id": "uzwbkPMaKwOI"
      },
      "source": [
        "Missing values are shown by `NaN` in pandas. This can be considered the equivalent of `None` in Python.\n",
        "\n",
        "Let's use the [`.fillna()`](https://pandas.pydata.org/docs/reference/api/pandas.DataFrame.fillna.html) function to fill the `Odometer` column with the average of the other values in the same column."
      ]
    },
    {
      "cell_type": "code",
      "execution_count": null,
      "metadata": {
        "id": "uFE-G1_FKwOJ"
      },
      "outputs": [],
      "source": [
        "# Fill Odometer column missing values with mean\n",
        "car_sales_missing[\"Odometer\"].fillna(car_sales_missing[\"Odometer\"].mean(),\n",
        "                                     inplace=False) # inplace is set to False by default"
      ]
    },
    {
      "cell_type": "markdown",
      "metadata": {
        "id": "mtDj96WYKwOK"
      },
      "source": [
        "Now let's check the original `car_sales_missing` `DataFrame`."
      ]
    },
    {
      "cell_type": "code",
      "execution_count": null,
      "metadata": {
        "id": "t06eyLsaKwOL"
      },
      "outputs": [],
      "source": [
        "car_sales_missing"
      ]
    },
    {
      "cell_type": "markdown",
      "metadata": {
        "id": "MDsvCgkCKwOM"
      },
      "source": [
        "Because `inplace` is set to `False` (default), there's still missing values in the `\"Odometer\"` column.\n",
        "\n",
        "Instead of using `inplace`, let's resassign the column to the filled version.\n",
        "\n",
        "We'll use the syntax `df[col] = df[col].fillna(value)` to fill the missing values in the `\"Odometer\"` column with the average of the other values in the same column."
      ]
    },
    {
      "cell_type": "code",
      "execution_count": null,
      "metadata": {
        "id": "oOD0JQVfKwON"
      },
      "outputs": [],
      "source": [
        "# Fill the Odometer missing values to the mean with inplace=True\n",
        "car_sales_missing[\"Odometer\"] = car_sales_missing[\"Odometer\"].fillna(car_sales_missing[\"Odometer\"].mean())"
      ]
    },
    {
      "cell_type": "markdown",
      "metadata": {
        "id": "ZZ3UprxvKwOO"
      },
      "source": [
        "Now let's check the `car_sales_missing` `DataFrame` again."
      ]
    },
    {
      "cell_type": "code",
      "execution_count": null,
      "metadata": {
        "id": "T2by5I7YKwOP"
      },
      "outputs": [],
      "source": [
        "car_sales_missing"
      ]
    },
    {
      "cell_type": "markdown",
      "metadata": {
        "id": "mgsuafEMKwOQ"
      },
      "source": [
        "The missing values in the `Odometer` column have been filled with the mean value of the same column.\n",
        "\n",
        "In practice, you might not want to fill a column's missing values with the mean, but this example was to show the difference between `inplace=False` (default) and `inplace=True`.\n",
        "\n",
        "Whichever you choose to use will depend on how you structure your code.\n",
        "\n",
        "All you have to remember is `inplace=False` returns a copy of the `DataFrame` you're working with.\n",
        "\n",
        "This is helpful if you want to make a duplicate of your current `DataFrame` and save it to another variable.\n",
        "\n",
        "Where as, `inplace=True` makes all the changes directly to the target `DataFrame`.\n",
        "\n",
        "We've filled some values but there's still missing values in `car_sales_missing`. Let's say you wanted to remove any rows which had missing data and only work with rows which had complete coverage.\n",
        "\n",
        "You can do this using [`.dropna()`](https://pandas.pydata.org/docs/reference/api/pandas.DataFrame.dropna.html)."
      ]
    },
    {
      "cell_type": "code",
      "execution_count": null,
      "metadata": {
        "id": "tAU4BbQ4KwOQ"
      },
      "outputs": [],
      "source": [
        "# Remove missing data\n",
        "car_sales_missing.dropna()"
      ]
    },
    {
      "cell_type": "markdown",
      "metadata": {
        "id": "ED2BbUHUKwOR"
      },
      "source": [
        "It appears the rows with missing values have been removed, now let's check to make sure."
      ]
    },
    {
      "cell_type": "code",
      "execution_count": null,
      "metadata": {
        "id": "iIRQSHxCKwOS"
      },
      "outputs": [],
      "source": [
        "car_sales_missing"
      ]
    },
    {
      "cell_type": "markdown",
      "metadata": {
        "id": "oZXrVyBjKwOT"
      },
      "source": [
        "Hmm, they're still there, can you guess why?\n",
        "\n",
        "It's because `.dropna()` has `inplace=False` as default. We can either set `inplace=True` or reassign the `car_sales_missing` `DataFrame`."
      ]
    },
    {
      "cell_type": "code",
      "execution_count": null,
      "metadata": {
        "id": "v_SHJd1xKwOT"
      },
      "outputs": [],
      "source": [
        "# The following two lines do the same thing\n",
        "car_sales_missing.dropna(inplace=True) # Operation happens inplace without reassignment\n",
        "car_sales_missing = car_sales_missing.dropna() # car_sales_missing gets reassigned to same DataFrame but with dropped values"
      ]
    },
    {
      "cell_type": "markdown",
      "metadata": {
        "id": "5yCNmKFaKwOU"
      },
      "source": [
        "Now if check again, the rows with missing values are gone and the index numbers have been updated."
      ]
    },
    {
      "cell_type": "code",
      "execution_count": null,
      "metadata": {
        "id": "-oS0xQtEKwOV"
      },
      "outputs": [],
      "source": [
        "car_sales_missing"
      ]
    },
    {
      "cell_type": "markdown",
      "metadata": {
        "id": "8wagvz9YKwOV"
      },
      "source": [
        "Instead of removing or filling data, what if you wanted to create it?\n",
        "\n",
        "For example, creating a column called `Seats` for number of seats.\n",
        "\n",
        "pandas allows for simple extra column creation on `DataFrame`'s.\n",
        "\n",
        "Three common ways are:\n",
        "1. Adding a `pandas.Series` as a column.\n",
        "2. Adding a Python list as a column.\n",
        "3. By using existing columns to create a new column."
      ]
    },
    {
      "cell_type": "code",
      "execution_count": null,
      "metadata": {
        "id": "awN1Tt-uKwOW"
      },
      "outputs": [],
      "source": [
        "# Create a column from a pandas Series\n",
        "seats_column = pd.Series([5, 5, 5, 5, 5, 5, 5, 5, 5, 5])\n",
        "car_sales[\"Seats\"] = seats_column\n",
        "car_sales"
      ]
    },
    {
      "cell_type": "markdown",
      "metadata": {
        "id": "Nt566_h-KwOX"
      },
      "source": [
        "Creating a column is similar to selecting a column, you pass the target `DataFrame` along with a new column name in brackets."
      ]
    },
    {
      "cell_type": "code",
      "execution_count": null,
      "metadata": {
        "id": "l-JoaPHaKwOY"
      },
      "outputs": [],
      "source": [
        "# Create a column from a Python list\n",
        "engine_sizes = [1.3, 2.0, 3.0, 4.2, 1.6, 1, 2.0, 2.3, 2.0, 3.0]\n",
        "car_sales[\"Engine Size\"] = engine_sizes\n",
        "car_sales"
      ]
    },
    {
      "cell_type": "markdown",
      "metadata": {
        "id": "5sVaXyYyKwOZ"
      },
      "source": [
        "You can also make a column by directly combining the values of other columns. Such as, price per kilometre on the Odometer."
      ]
    },
    {
      "cell_type": "code",
      "execution_count": null,
      "metadata": {
        "id": "M9ZTEV6NKwOa"
      },
      "outputs": [],
      "source": [
        "# Column from other columns\n",
        "car_sales[\"Price per KM\"] = car_sales[\"Price\"] / car_sales[\"Odometer (KM)\"]\n",
        "car_sales"
      ]
    },
    {
      "cell_type": "markdown",
      "metadata": {
        "id": "1M_4hO7fKwOc"
      },
      "source": [
        "Now can you think why this might not be a great column to add?\n",
        "\n",
        "It could be confusing when a car with less kilometers on the odometer looks to cost more per kilometre than one with more.\n",
        "\n",
        "When buying a car, usually less kilometres on the odometer is better.\n",
        "\n",
        "This kind of column creation is called [**feature engineering**](https://en.wikipedia.org/wiki/Feature_engineering), the practice of enriching your dataset with more information (either from it directly or elsewhere).\n",
        "\n",
        "If `Make`, `Colour`, `Doors` are features of the data, creating `Price per KM` could be another. But in this case, not a very good one.\n",
        "\n",
        "As for column creation, you can also create a new column setting all values to a one standard value."
      ]
    },
    {
      "cell_type": "code",
      "execution_count": null,
      "metadata": {
        "id": "WB711Xk-KwOd"
      },
      "outputs": [],
      "source": [
        "# Column to all 1 value (number of wheels)\n",
        "car_sales[\"Number of wheels\"] = 4\n",
        "car_sales"
      ]
    },
    {
      "cell_type": "code",
      "execution_count": null,
      "metadata": {
        "id": "LgU-lUdtKwOf"
      },
      "outputs": [],
      "source": [
        "car_sales[\"Passed road safety\"] = True\n",
        "car_sales"
      ]
    },
    {
      "cell_type": "markdown",
      "metadata": {
        "id": "LLF5VwKHKwOg"
      },
      "source": [
        "Now you've created some columns, you decide to show your colleague what you've done. When they ask about the `Price per KM` column, you tell them you're not really sure why it's there.\n",
        "\n",
        "You decide you better remove it to prevent confusion.\n",
        "\n",
        "You can remove a column using [`.drop('COLUMN_NAME', axis=1)`](https://pandas.pydata.org/docs/reference/api/pandas.DataFrame.drop.html)."
      ]
    },
    {
      "cell_type": "code",
      "execution_count": null,
      "metadata": {
        "id": "W1NY1OoDKwOh"
      },
      "outputs": [],
      "source": [
        "# Drop the Price per KM column\n",
        "car_sales = car_sales.drop(\"Price per KM\", axis=1) # columns live on axis 1\n",
        "car_sales"
      ]
    },
    {
      "cell_type": "markdown",
      "metadata": {
        "id": "hKSm03IOKwOi"
      },
      "source": [
        "Why `axis=1`? Because that's the axis columns live on. Rows live on `axis=0`.\n",
        "\n",
        "Let's say you wanted to shuffle the order of your `DataFrame` so you could split it into train, validation and test sets. And even though the order of your samples was random, you wanted to make sure.\n",
        "\n",
        "To do so you could use [`.sample(frac=1)`](https://pandas.pydata.org/docs/reference/api/pandas.DataFrame.sample.html).\n",
        "\n",
        "`.sample()` randomly samples different rows from a `DataFrame`.\n",
        "\n",
        "The `frac` parameter dictates the fraction, where 1 = 100% of rows, 0.5 = 50% of rows, 0.01 = 1% of rows.\n",
        "\n",
        "You can also use `.sample(n=1)` where `n` is the number of rows to sample."
      ]
    },
    {
      "cell_type": "code",
      "execution_count": null,
      "metadata": {
        "id": "_ga9c4fcKwOj"
      },
      "outputs": [],
      "source": [
        "# Sample car_sales\n",
        "car_sales_sampled = car_sales.sample(frac=1)\n",
        "car_sales_sampled"
      ]
    },
    {
      "cell_type": "markdown",
      "metadata": {
        "id": "ZEjDeehEKwOk"
      },
      "source": [
        "Notice how the rows remain intact but their order is mixed (check the indexes).\n",
        "\n",
        "`.sample(frac=X)` is also helpful when you're working with a large `DataFrame`.\n",
        "\n",
        "Say you had 2,000,000 rows.\n",
        "\n",
        "Running tests, analysis and machine learning algorithms on 2,000,000 rows could take a long time. And since being a data scientist or machine learning engineer is about reducing the time between experiments, you might begin with a sample of rows first.\n",
        "\n",
        "For example, you could use `40k_rows = 2_mil_rows.sample(frac=0.05)` to work on 40,000 rows from a `DataFrame` called `2_mil_rows` containing 2,000,000 rows.\n",
        "\n",
        "What if you wanted to get the indexes back in order?\n",
        "\n",
        "You could do so using [`.reset_index()`](https://pandas.pydata.org/docs/reference/api/pandas.DataFrame.reset_index.html)."
      ]
    },
    {
      "cell_type": "code",
      "execution_count": null,
      "metadata": {
        "id": "lAGafls4KwOl"
      },
      "outputs": [],
      "source": [
        "# Reset the indexes of car_sales_sampled\n",
        "car_sales_sampled.reset_index()"
      ]
    },
    {
      "cell_type": "markdown",
      "metadata": {
        "id": "1LJxARVvKwOm"
      },
      "source": [
        "Calling `.reset_index()` on a `DataFrame` resets the index numbers to their defaults. It also creates a new `Index` column by default which contains the previous index values.\n",
        "\n",
        "Finally, what if you wanted to apply a function to a column. Such as, converting the `Odometer` column from kilometers to miles.\n",
        "\n",
        "You can do so using the [`.apply()`](https://pandas.pydata.org/docs/reference/api/pandas.DataFrame.apply.html) function and passing it a Python [lambda function](https://www.w3schools.com/python/python_lambda.asp). We know there's about 1.6 kilometers in a mile, so if you divide the value in the `Odometer` column by 1.6, it should convert it to miles."
      ]
    },
    {
      "cell_type": "code",
      "execution_count": null,
      "metadata": {
        "id": "2rnyv6hGKwOn"
      },
      "outputs": [],
      "source": [
        "# Change the Odometer values from kilometres to miles\n",
        "car_sales[\"Odometer (KM)\"].apply(lambda x: x / 1.6)"
      ]
    },
    {
      "cell_type": "markdown",
      "metadata": {
        "id": "PG5AEWO_KwOo"
      },
      "source": [
        "Now let's check our `car_sales` `DataFrame`."
      ]
    },
    {
      "cell_type": "code",
      "execution_count": null,
      "metadata": {
        "id": "oZr6f5YSKwOp"
      },
      "outputs": [],
      "source": [
        "car_sales"
      ]
    },
    {
      "cell_type": "markdown",
      "metadata": {
        "id": "gwLai8cQKwOq"
      },
      "source": [
        "The `Odometer` column didn't change. Can you guess why?\n",
        "\n",
        "We didn't reassign it."
      ]
    },
    {
      "cell_type": "code",
      "execution_count": null,
      "metadata": {
        "id": "pHIDmnYGKwOq"
      },
      "outputs": [],
      "source": [
        "# Reassign the Odometer column to be miles instead of kilometers\n",
        "car_sales[\"Odometer (KM)\"] = car_sales[\"Odometer (KM)\"].apply(lambda x: x / 1.6)\n",
        "car_sales"
      ]
    },
    {
      "cell_type": "markdown",
      "metadata": {
        "id": "n0IgHguQKwOs"
      },
      "source": [
        "If you've never seen a lambda function they can be tricky. What the line above is saying is \"take the value in the `Odometer (KM)` column (`x`) and set it to be itself divided by 1.6\"."
      ]
    },
    {
      "cell_type": "markdown",
      "metadata": {
        "id": "VP0-BYvNKwOt"
      },
      "source": [
        "## Summary\n",
        "\n",
        "### Main topics we covered\n",
        "* [Series](https://pandas.pydata.org/pandas-docs/stable/reference/api/pandas.Series.html) - a single column (can be multiple rows) of values.\n",
        "* [DataFrame](https://pandas.pydata.org/pandas-docs/stable/reference/frame.html) - multiple columns/rows of values (a DataFrame is comprised of multiple Series).\n",
        "* [Importing data](https://pandas.pydata.org/pandas-docs/stable/reference/io.html) - we used [`pd.read_csv()`](https://pandas.pydata.org/pandas-docs/stable/reference/api/pandas.read_csv.html#pandas-read-csv) to read in a CSV (comma-separated values) file but there are multiple options for reading data.\n",
        "* [Exporting data](https://pandas.pydata.org/pandas-docs/stable/reference/io.html) - we exported our data using `to_csv()`, however there are multiple methods of exporting data.\n",
        "* [Describing data](https://pandas.pydata.org/docs/reference/api/pandas.DataFrame.describe.html)\n",
        "    * `df.dtypes` - find the datatypes present in a dataframe.\n",
        "    * `df.describe()` - find various numerical features of a dataframe.\n",
        "    * `df.info()` - find the number of rows and whether or not any of them are empty.\n",
        "* [Viewing and selecting data](https://pandas.pydata.org/docs/user_guide/10min.html#viewing-data)\n",
        "    * `df.head()` - view the first 5 rows of `df`.\n",
        "    * `df.loc` & `df.iloc` - select specific parts of a dataframe.\n",
        "    * `df['A']` - select column `A` of `df`.\n",
        "    * `df[df['A'] > 1000]` - selection column `A` rows with values over 1000 of `df`.\n",
        "    * `df['A']` - plot values from column `A` using matplotlib (defaults to line graph).\n",
        "* [Manipulating data and performing operations](https://pandas.pydata.org/docs/user_guide/10min.html#operations) - pandas has many built-in functions you can use to manipulate data, also many of the Python operators (e.g. `+`, `-`, `>`, `==`) work with pandas.\n",
        "\n",
        "### Further reading\n",
        "Since pandas is such a large library, it would be impossible to cover it all in one go.\n",
        "\n",
        "The following are some resources you might want to look into for more.\n",
        "* [Python for Data Analysis by Wes McKinney](https://wesmckinney.com/book/) - possibly the most complete text of the pandas library (apart from the documentation itself) written by the creator of pandas.\n",
        "* [Data Manipulation with Pandas (section of Python Data Science Handbook by Jake VanderPlas)](https://jakevdp.github.io/PythonDataScienceHandbook/03.00-introduction-to-pandas.html) - a very hands-on approach to many of the main functions in the pandas library.  \n",
        "\n",
        "### Exercises\n",
        "After completing this notebook, you next thing should be to try out some more pandas code of your own.\n",
        "\n",
        "I'd suggest at least going through number 1 (write out all the code yourself), a couple from number 2 (again, write out the code yourself) and spend an hour reading number 3 (this is vast but keep it in mind).\n",
        "\n",
        "1. [10-minute introduction to pandas](https://pandas.pydata.org/pandas-docs/stable/user_guide/10min.html) - go through all the functions here and be sure to write out the code yourself.\n",
        "2. [Pandas getting started tutorial](https://pandas.pydata.org/pandas-docs/stable/getting_started/intro_tutorials/index.html) - pick a couple from here which spark your interest and go through them both writing out the code for your self.\n",
        "3. [Pandas essential basic functionality](https://pandas.pydata.org/pandas-docs/stable/user_guide/basics.html) - spend an hour reading this and bookmark it for whenever you need to come back for an overview of pandas."
      ]
    }
  ],
  "metadata": {
    "kernelspec": {
      "display_name": "Python 3 (ipykernel)",
      "language": "python",
      "name": "python3"
    },
    "language_info": {
      "codemirror_mode": {
        "name": "ipython",
        "version": 3
      },
      "file_extension": ".py",
      "mimetype": "text/x-python",
      "name": "python",
      "nbconvert_exporter": "python",
      "pygments_lexer": "ipython3",
      "version": "3.11.9"
    },
    "colab": {
      "provenance": []
    }
  },
  "nbformat": 4,
  "nbformat_minor": 0
}